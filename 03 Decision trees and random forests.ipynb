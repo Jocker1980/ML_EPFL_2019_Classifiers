{
 "cells": [
  {
   "cell_type": "markdown",
   "metadata": {},
   "source": [
    "# 03 Decision trees and Random Forests"
   ]
  },
  {
   "cell_type": "markdown",
   "metadata": {},
   "source": [
    "## Perform the following tasks\n",
    "\n",
    "### Using the OverFeat features:\n",
    "\n",
    "\n",
    "#### For the decision tree classifier:\n",
    "\n",
    "- Tune its depth using grid search (without cross-validation) and plot the validation curve.\n",
    "- Split the train set into a (smaller) train and validation sets with respectively 3,200 and 800 samples.\n",
    "- For each depth (try at least 10 different values), fit the decision tree on the train set and save its train/validation accuracy.\n",
    "- Create a plot of the depth and accuracy values with one curve for the training scores and one for the validation scores.\n",
    "- Write your observations in a markdown cell.\n",
    "\n",
    "#### For the random forest classifier:\n",
    "\n",
    "- Try different sizes of ensemble, e.g., 50, 100 and 200 trees.\n",
    "- Fit the random forests on the train set and evaluate them on the validation one.\n",
    "- Collect the results in a DataFrame.\n",
    "\n",
    "\n",
    "#### For both:\n",
    "\n",
    "- Fit your tuned estimators on the entire train set with 4,000 data points and evaluate them on the test set. Print the accuracy values.\n",
    "- You might want to use PCA as a preprocessing step before your decision tree or random forest estimators to improve the results, e.g., speed or accuracy. In any case, justify your choice in a comment or a markdown cell.\n",
    "\n"
   ]
  },
  {
   "cell_type": "markdown",
   "metadata": {},
   "source": [
    "## Load data"
   ]
  },
  {
   "cell_type": "code",
   "execution_count": 1,
   "metadata": {},
   "outputs": [
    {
     "name": "stderr",
     "output_type": "stream",
     "text": [
      "C:\\Users\\Joker\\Anaconda3\\envs\\exts-aml2\\lib\\site-packages\\sklearn\\ensemble\\weight_boosting.py:29: DeprecationWarning: numpy.core.umath_tests is an internal NumPy module and should not be imported. It will be removed in a future NumPy release.\n",
      "  from numpy.core.umath_tests import inner1d\n"
     ]
    }
   ],
   "source": [
    "import pandas as pd\n",
    "import numpy as np\n",
    "import matplotlib.pyplot as plt\n",
    "%matplotlib inline\n",
    "import seaborn as sns\n",
    "from sklearn.model_selection import train_test_split, ParameterGrid\n",
    "from sklearn.pipeline import Pipeline\n",
    "from sklearn.tree import DecisionTreeClassifier\n",
    "from sklearn.ensemble import RandomForestClassifier\n",
    "from sklearn.preprocessing import StandardScaler\n",
    "from sklearn.decomposition import PCA"
   ]
  },
  {
   "cell_type": "code",
   "execution_count": 2,
   "metadata": {
    "collapsed": true
   },
   "outputs": [
    {
     "name": "stdout",
     "output_type": "stream",
     "text": [
      "Data keys dict_keys(['pixels', 'overfeat', 'labels', 'names', 'allow_pickle'])\n"
     ]
    }
   ],
   "source": [
    "# Load the data form the .npz\n",
    "with np.load('cifar4-train.npz', allow_pickle=False) as npz_file:\n",
    "    cifar4 = dict(npz_file.items())\n",
    "# Overview of the data content    \n",
    "print('Data keys {}'.format(cifar4.keys()))"
   ]
  },
  {
   "cell_type": "code",
   "execution_count": 3,
   "metadata": {
    "collapsed": true
   },
   "outputs": [
    {
     "name": "stdout",
     "output_type": "stream",
     "text": [
      "\n",
      " pixels shape: (5000, 3072) \n",
      " pixels dtype: uint8\n",
      "\n",
      " overfeat shape: (5000, 4096) \n",
      " overfeat dtype: float32\n",
      "\n",
      " labels shape: (5000,) \n",
      " labels dtype: int64\n",
      "\n",
      " names shape: (4,) \n",
      " names dtype: <U8\n",
      "\n",
      " allow_pickle shape: () \n",
      " allow_pickle dtype: bool\n"
     ]
    }
   ],
   "source": [
    "# Generate the features matrices with pixels and overfeat\n",
    "# Create X/y arrays\n",
    "Xo = cifar4['overfeat']\n",
    "Xp = cifar4['pixels']\n",
    "y = cifar4['labels']\n",
    "names = cifar4['names']\n",
    "\n",
    "# Explore data verify the dtype of Xo to be float32\n",
    "inside = npz_file.files\n",
    "for c in inside:\n",
    "        print('\\n',str(c)+' shape: '+str(cifar4[c].shape),\n",
    "              '\\n',str(c)+' dtype: '+str(cifar4[c].dtype))"
   ]
  },
  {
   "cell_type": "markdown",
   "metadata": {},
   "source": [
    "One can check there are no categorical features as only numerical dtypes are in the list."
   ]
  },
  {
   "cell_type": "code",
   "execution_count": 4,
   "metadata": {},
   "outputs": [],
   "source": [
    "# Partition data set to be able to assess model performance and over/under fitting issues\n",
    "from sklearn.model_selection import train_test_split\n",
    "\n",
    "# Split data into train/test sets and insure balanced data sets (stratify)\n",
    "Xo_train, Xo_test, y_train, y_test = train_test_split(Xo, y, train_size=4000, test_size=1000,\n",
    "    random_state=0, stratify=y)\n",
    "#print ('Size of Xo_train, y_train :', Xo_train.shape, y_train.shape)\n",
    "#print ('Size of Xo_test, y_test :', Xo_test.shape, y_test.shape)\n",
    "\n",
    "# Split data into train/validation sets and insure balanced data sets (stratify)\n",
    "Xo_tr, Xo_valid, y_tr, y_valid = train_test_split(Xo_train, y_train, train_size=3200, test_size=800,\n",
    "    random_state=0, stratify=y_train) # select y_train for the second Split\n",
    "#print ('Size of Xo_tr, y_tr:', Xo_tr.shape, y_tr.shape)\n",
    "#print ('Size of Xo_valid, y_valid:', Xo_valid.shape, y_valid.shape)"
   ]
  },
  {
   "cell_type": "markdown",
   "metadata": {},
   "source": [
    "## Decision Tree Classifier"
   ]
  },
  {
   "cell_type": "markdown",
   "metadata": {},
   "source": [
    "Our data set has a lot of features. It means the decision tree could be very deep and then tend to overfit (high variance)\n",
    "To prevent this one will use a PCA as preprocessing step to reduce dimentionality and then the number of features."
   ]
  },
  {
   "cell_type": "code",
   "execution_count": 21,
   "metadata": {},
   "outputs": [],
   "source": [
    "# Create a Decision tree classifier\n",
    "# Create a pipeline with a scaler & PCA steps to be assessed if better with or not\n",
    "\n",
    "\n",
    "# From data exploration stage one knows that with 162 and 387 first components 90-95%\n",
    "# of variance is explained, then one can take the mean ~275\n",
    "# Create a PCA object\n",
    "n_compo = 160 # adjusted to 160 after the grid search\n",
    "pca = PCA(n_compo) \n",
    "\n",
    "pipe = Pipeline([\n",
    "    ('scaler', StandardScaler()), # small improvment\n",
    "    ('pca', pca),\n",
    "    ('tree', DecisionTreeClassifier())\n",
    "])"
   ]
  },
  {
   "cell_type": "markdown",
   "metadata": {},
   "source": [
    "### Grid search"
   ]
  },
  {
   "cell_type": "code",
   "execution_count": 6,
   "metadata": {},
   "outputs": [
    {
     "name": "stdout",
     "output_type": "stream",
     "text": [
      "Number of combinations: 15\n"
     ]
    }
   ],
   "source": [
    "# Define a set of reasonable values for each parameter\n",
    "#n_compo = np.arange(160, 260,25) # 160, 185, .., 260\n",
    "n_depths = np.arange(1, 16)\n",
    "#criterion = ['gini','entropy']\n",
    "\n",
    "# Define the grid of parameters and values to assess\n",
    "grid = ParameterGrid({\n",
    "    #'pca__n_components': n_compo,\n",
    "    'tree__max_depth': n_depths,\n",
    "    #'tree__criterion': criterion, # disabled to match exercise request\n",
    "   })\n",
    "\n",
    "# Print the number of combinations\n",
    "print('Number of combinations:', len(grid))"
   ]
  },
  {
   "cell_type": "markdown",
   "metadata": {},
   "source": [
    "### Fit & tune parameters / hyperparameters"
   ]
  },
  {
   "cell_type": "code",
   "execution_count": 7,
   "metadata": {
    "collapsed": true
   },
   "outputs": [
    {
     "name": "stdout",
     "output_type": "stream",
     "text": [
      "Combination 1/15\n",
      "Combination 2/15\n",
      "Combination 3/15\n",
      "Combination 4/15\n",
      "Combination 5/15\n",
      "Combination 6/15\n",
      "Combination 7/15\n",
      "Combination 8/15\n",
      "Combination 9/15\n",
      "Combination 10/15\n",
      "Combination 11/15\n",
      "Combination 12/15\n",
      "Combination 13/15\n",
      "Combination 14/15\n",
      "Combination 15/15\n",
      "done!\n"
     ]
    }
   ],
   "source": [
    "# Save accuracy on test set\n",
    "tree_scores = []\n",
    "\n",
    "# Enumerate combinations starting from 1\n",
    "for i, params_dict in enumerate(grid, 1):\n",
    "    # Print progress\n",
    "    print('Combination {}/{}'.format(\n",
    "    i, len(grid) # Total number of combinations\n",
    "    ))\n",
    "    \n",
    "    # Set parameters\n",
    "    pipe.set_params(**params_dict)\n",
    "\n",
    "    # Fit a tree classifier\n",
    "    pipe.fit(Xo_tr, y_tr) # fit on the small train set to tune parameters\n",
    "\n",
    "    # Save accuracy on train & validation set\n",
    "    params_dict['accuracy tr'] = pipe.score(Xo_tr, y_tr) # assess with the small train to tune parameter hyperparameters\n",
    "    tree_scores.append(params_dict)# Save result and corresponding configuration\n",
    "    params_dict['accuracy valid'] = pipe.score(Xo_valid, y_valid) # assess with validation to tune parameter hyperparameters\n",
    "    tree_scores.append(params_dict)# Save result and corresponding configuration\n",
    "\n",
    "print('done!')"
   ]
  },
  {
   "cell_type": "markdown",
   "metadata": {},
   "source": [
    "### Score dataframe & best results"
   ]
  },
  {
   "cell_type": "code",
   "execution_count": 8,
   "metadata": {
    "collapsed": true
   },
   "outputs": [
    {
     "data": {
      "text/html": [
       "<div>\n",
       "<style scoped>\n",
       "    .dataframe tbody tr th:only-of-type {\n",
       "        vertical-align: middle;\n",
       "    }\n",
       "\n",
       "    .dataframe tbody tr th {\n",
       "        vertical-align: top;\n",
       "    }\n",
       "\n",
       "    .dataframe thead th {\n",
       "        text-align: right;\n",
       "    }\n",
       "</style>\n",
       "<table border=\"1\" class=\"dataframe\">\n",
       "  <thead>\n",
       "    <tr style=\"text-align: right;\">\n",
       "      <th></th>\n",
       "      <th>accuracy tr</th>\n",
       "      <th>accuracy valid</th>\n",
       "      <th>tree__max_depth</th>\n",
       "    </tr>\n",
       "  </thead>\n",
       "  <tbody>\n",
       "    <tr>\n",
       "      <th>8</th>\n",
       "      <td>0.717500</td>\n",
       "      <td>0.67250</td>\n",
       "      <td>5</td>\n",
       "    </tr>\n",
       "    <tr>\n",
       "      <th>9</th>\n",
       "      <td>0.717500</td>\n",
       "      <td>0.67250</td>\n",
       "      <td>5</td>\n",
       "    </tr>\n",
       "    <tr>\n",
       "      <th>10</th>\n",
       "      <td>0.755938</td>\n",
       "      <td>0.65750</td>\n",
       "      <td>6</td>\n",
       "    </tr>\n",
       "    <tr>\n",
       "      <th>11</th>\n",
       "      <td>0.755938</td>\n",
       "      <td>0.65750</td>\n",
       "      <td>6</td>\n",
       "    </tr>\n",
       "    <tr>\n",
       "      <th>6</th>\n",
       "      <td>0.672813</td>\n",
       "      <td>0.65250</td>\n",
       "      <td>4</td>\n",
       "    </tr>\n",
       "    <tr>\n",
       "      <th>7</th>\n",
       "      <td>0.672813</td>\n",
       "      <td>0.65250</td>\n",
       "      <td>4</td>\n",
       "    </tr>\n",
       "    <tr>\n",
       "      <th>13</th>\n",
       "      <td>0.801875</td>\n",
       "      <td>0.64875</td>\n",
       "      <td>7</td>\n",
       "    </tr>\n",
       "    <tr>\n",
       "      <th>12</th>\n",
       "      <td>0.801875</td>\n",
       "      <td>0.64875</td>\n",
       "      <td>7</td>\n",
       "    </tr>\n",
       "    <tr>\n",
       "      <th>17</th>\n",
       "      <td>0.902500</td>\n",
       "      <td>0.63875</td>\n",
       "      <td>9</td>\n",
       "    </tr>\n",
       "    <tr>\n",
       "      <th>16</th>\n",
       "      <td>0.902500</td>\n",
       "      <td>0.63875</td>\n",
       "      <td>9</td>\n",
       "    </tr>\n",
       "  </tbody>\n",
       "</table>\n",
       "</div>"
      ],
      "text/plain": [
       "    accuracy tr  accuracy valid  tree__max_depth\n",
       "8      0.717500         0.67250                5\n",
       "9      0.717500         0.67250                5\n",
       "10     0.755938         0.65750                6\n",
       "11     0.755938         0.65750                6\n",
       "6      0.672813         0.65250                4\n",
       "7      0.672813         0.65250                4\n",
       "13     0.801875         0.64875                7\n",
       "12     0.801875         0.64875                7\n",
       "17     0.902500         0.63875                9\n",
       "16     0.902500         0.63875                9"
      ]
     },
     "execution_count": 8,
     "metadata": {},
     "output_type": "execute_result"
    }
   ],
   "source": [
    "# Create a Dataframe to gather socres and configuration\n",
    "df_tree_scores = pd.DataFrame(tree_scores)\n",
    "df_tree_scores.sort_values(by='accuracy valid', ascending=False).head(10)"
   ]
  },
  {
   "cell_type": "code",
   "execution_count": 9,
   "metadata": {},
   "outputs": [
    {
     "name": "stdout",
     "output_type": "stream",
     "text": [
      "Top accuracy on validation set: 0.672 with a depth:5.\n",
      "Top accuracy on small train set: 0.992 with a depth:15.\n"
     ]
    }
   ],
   "source": [
    "# Print out the best configuration and score on validation set \n",
    "tree_idx = df_tree_scores['accuracy valid'].idxmax()\n",
    "print ('Top accuracy on validation set: {:.3f} with a depth:{}.'\n",
    "       .format(df_tree_scores.loc[tree_idx,'accuracy valid'], df_tree_scores.loc[tree_idx,'tree__max_depth']))\n",
    "#print ('Top accuracy on validation set with {} PCA components.'\n",
    "#       .format(df_tree_scores.loc[idx,'pca__n_components']))\n",
    "\n",
    "# Print out the best configuration and score on validation set \n",
    "tree_idx2 = df_tree_scores['accuracy tr'].idxmax()\n",
    "print ('Top accuracy on small train set: {:.3f} with a depth:{}.'\n",
    "       .format(df_tree_scores.loc[tree_idx2,'accuracy tr'], df_tree_scores.loc[tree_idx2,'tree__max_depth']))"
   ]
  },
  {
   "cell_type": "markdown",
   "metadata": {},
   "source": [
    "### Plot training and validation accuracy curves"
   ]
  },
  {
   "cell_type": "code",
   "execution_count": 10,
   "metadata": {},
   "outputs": [
    {
     "data": {
      "image/png": "[encoded data removed]",
      "text/plain": [
       "<matplotlib.figure.Figure at 0x19b0c7b8>"
      ]
     },
     "metadata": {},
     "output_type": "display_data"
    }
   ],
   "source": [
    "sns.set()\n",
    "fig = plt.figure(figsize=(17, 10))\n",
    "# Plot training curves\n",
    "plt.plot(df_tree_scores['accuracy valid'], label='accuracy valid')\n",
    "plt.plot(df_tree_scores['accuracy tr'], label='accuracy tr')\n",
    "plt.title('Validation accuracy {:.3f} (mean last 3)'.format(\n",
    "    np.mean(df_tree_scores['accuracy valid'][-3:]) # last three values\n",
    "))\n",
    "plt.xlabel('Depth of Tree')\n",
    "plt.ylabel('Accuracy')\n",
    "plt.legend()\n",
    "plt.show()"
   ]
  },
  {
   "cell_type": "markdown",
   "metadata": {},
   "source": [
    "### Comments on Decision tree classifier\n",
    "\n",
    "- One saws on the curves that after 3, the two curves start diverging.\n",
    "- After 8, validation curve starts decreasing.\n",
    "- The scaling preprocessing step gives a small improvment"
   ]
  },
  {
   "cell_type": "markdown",
   "metadata": {},
   "source": [
    "## Random Forest Classifier\n",
    "\n",
    "Our data set has a lot of features. It means the decision tree could be very deep and then tend to overfit (high variance). A Random Forest Classifier is more robust to it because of the bagging technic (ensemble method), we try to reduce the variance of an estimator by averaging the predictions.\n",
    "\n",
    "Thus one will not use a PCA as preprocessing step to reduce dimentionality and then the number of features."
   ]
  },
  {
   "cell_type": "code",
   "execution_count": 11,
   "metadata": {},
   "outputs": [],
   "source": [
    "# Create a Random forest classifier\n",
    "# Create a pipeline with a scaler step to be assessed if better with or not\n",
    "pipe = Pipeline([\n",
    "    #('scaler', StandardScaler()), # does not bring any improvment\n",
    "    ('Rforest', RandomForestClassifier(n_jobs=-1, random_state=0))\n",
    "])"
   ]
  },
  {
   "cell_type": "markdown",
   "metadata": {},
   "source": [
    "### Grid search"
   ]
  },
  {
   "cell_type": "code",
   "execution_count": 12,
   "metadata": {},
   "outputs": [
    {
     "name": "stdout",
     "output_type": "stream",
     "text": [
      "Number of combinations: 4\n"
     ]
    }
   ],
   "source": [
    "# Define the grid of parameters and values to assess\n",
    "from sklearn.model_selection import ParameterGrid\n",
    "\n",
    "# Define a set of reasonable values for each parameter\n",
    "n_estim = np.arange(1050, 1150,25)\n",
    "\n",
    "# Define a grid of values\n",
    "grid = ParameterGrid({'Rforest__n_estimators': n_estim})\n",
    "\n",
    "# Print the number of combinations\n",
    "print('Number of combinations:', len(grid))"
   ]
  },
  {
   "cell_type": "markdown",
   "metadata": {},
   "source": [
    "### Fit & tune parameters / hyperparameters"
   ]
  },
  {
   "cell_type": "code",
   "execution_count": 13,
   "metadata": {},
   "outputs": [
    {
     "name": "stdout",
     "output_type": "stream",
     "text": [
      "Combination 1/4\n",
      "Combination 2/4\n",
      "Combination 3/4\n",
      "Combination 4/4\n",
      "done!\n"
     ]
    }
   ],
   "source": [
    "# Save accuracy on test set\n",
    "Rforest_scores = []\n",
    "\n",
    "# Enumerate combinations starting from 1\n",
    "for i, params_dict in enumerate(grid, 1):\n",
    "    # Print progress\n",
    "    print('Combination {}/{}'.format(\n",
    "    i, len(grid) # Total number of combinations\n",
    "    ))\n",
    "    \n",
    "    # Set parameters\n",
    "    pipe.set_params(**params_dict)\n",
    "\n",
    "    # Fit a tree classifier\n",
    "    pipe.fit(Xo_tr, y_tr) # fit on the small train set to tune parameters\n",
    "\n",
    "    # Save accuracy on train & validation set\n",
    "    params_dict['accuracy tr'] = pipe.score(Xo_tr, y_tr) # assess with the small train to tune parameter hyperparameters\n",
    "    Rforest_scores.append(params_dict)# Save result and corresponding configuration\n",
    "    params_dict['accuracy valid'] = pipe.score(Xo_valid, y_valid) # assess with validation to tune parameter hyperparameters\n",
    "    Rforest_scores.append(params_dict)# Save result and corresponding configuration\n",
    "\n",
    "print('done!')"
   ]
  },
  {
   "cell_type": "markdown",
   "metadata": {},
   "source": [
    "### Score dataframe & best results"
   ]
  },
  {
   "cell_type": "code",
   "execution_count": 14,
   "metadata": {},
   "outputs": [
    {
     "data": {
      "text/html": [
       "<div>\n",
       "<style scoped>\n",
       "    .dataframe tbody tr th:only-of-type {\n",
       "        vertical-align: middle;\n",
       "    }\n",
       "\n",
       "    .dataframe tbody tr th {\n",
       "        vertical-align: top;\n",
       "    }\n",
       "\n",
       "    .dataframe thead th {\n",
       "        text-align: right;\n",
       "    }\n",
       "</style>\n",
       "<table border=\"1\" class=\"dataframe\">\n",
       "  <thead>\n",
       "    <tr style=\"text-align: right;\">\n",
       "      <th></th>\n",
       "      <th>Rforest__n_estimators</th>\n",
       "      <th>accuracy tr</th>\n",
       "      <th>accuracy valid</th>\n",
       "    </tr>\n",
       "  </thead>\n",
       "  <tbody>\n",
       "    <tr>\n",
       "      <th>2</th>\n",
       "      <td>1075</td>\n",
       "      <td>1.0</td>\n",
       "      <td>0.79875</td>\n",
       "    </tr>\n",
       "    <tr>\n",
       "      <th>3</th>\n",
       "      <td>1075</td>\n",
       "      <td>1.0</td>\n",
       "      <td>0.79875</td>\n",
       "    </tr>\n",
       "    <tr>\n",
       "      <th>0</th>\n",
       "      <td>1050</td>\n",
       "      <td>1.0</td>\n",
       "      <td>0.79625</td>\n",
       "    </tr>\n",
       "    <tr>\n",
       "      <th>1</th>\n",
       "      <td>1050</td>\n",
       "      <td>1.0</td>\n",
       "      <td>0.79625</td>\n",
       "    </tr>\n",
       "    <tr>\n",
       "      <th>4</th>\n",
       "      <td>1100</td>\n",
       "      <td>1.0</td>\n",
       "      <td>0.79375</td>\n",
       "    </tr>\n",
       "    <tr>\n",
       "      <th>5</th>\n",
       "      <td>1100</td>\n",
       "      <td>1.0</td>\n",
       "      <td>0.79375</td>\n",
       "    </tr>\n",
       "    <tr>\n",
       "      <th>6</th>\n",
       "      <td>1125</td>\n",
       "      <td>1.0</td>\n",
       "      <td>0.79375</td>\n",
       "    </tr>\n",
       "    <tr>\n",
       "      <th>7</th>\n",
       "      <td>1125</td>\n",
       "      <td>1.0</td>\n",
       "      <td>0.79375</td>\n",
       "    </tr>\n",
       "  </tbody>\n",
       "</table>\n",
       "</div>"
      ],
      "text/plain": [
       "   Rforest__n_estimators  accuracy tr  accuracy valid\n",
       "2                   1075          1.0         0.79875\n",
       "3                   1075          1.0         0.79875\n",
       "0                   1050          1.0         0.79625\n",
       "1                   1050          1.0         0.79625\n",
       "4                   1100          1.0         0.79375\n",
       "5                   1100          1.0         0.79375\n",
       "6                   1125          1.0         0.79375\n",
       "7                   1125          1.0         0.79375"
      ]
     },
     "execution_count": 14,
     "metadata": {},
     "output_type": "execute_result"
    }
   ],
   "source": [
    "# Create a Dataframe to gather socres and configuration\n",
    "df_Rforest_scores = pd.DataFrame(Rforest_scores)\n",
    "df_Rforest_scores.sort_values(by='accuracy valid', ascending=False).head(10)"
   ]
  },
  {
   "cell_type": "code",
   "execution_count": 15,
   "metadata": {},
   "outputs": [
    {
     "name": "stdout",
     "output_type": "stream",
     "text": [
      "Top accuracy on validation set: 0.7987 with a number of estimator:1075.\n",
      "Top accuracy on small train set: 1.000 with a number of estimator:1050.\n"
     ]
    }
   ],
   "source": [
    "# Print out the best configuration and score on validation set \n",
    "Rf_idx = df_Rforest_scores['accuracy valid'].idxmax()\n",
    "print ('Top accuracy on validation set: {:.4f} with a number of estimator:{}.'\n",
    "       .format(df_Rforest_scores.loc[Rf_idx,'accuracy valid'], df_Rforest_scores.loc[Rf_idx,'Rforest__n_estimators']))\n",
    "\n",
    "# Print out the best configuration and score on validation set \n",
    "Rf_idx2 = df_Rforest_scores['accuracy tr'].idxmax()\n",
    "print ('Top accuracy on small train set: {:.3f} with a number of estimator:{}.'\n",
    "       .format(df_Rforest_scores.loc[Rf_idx2,'accuracy tr'], df_Rforest_scores.loc[Rf_idx2,'Rforest__n_estimators']))"
   ]
  },
  {
   "cell_type": "markdown",
   "metadata": {},
   "source": [
    "### Comments on Random forest classifier\n",
    "- How do we juge overfitting with a Random Forest Classifier ?\n",
    "- It seems the train accuracy is over 1 very early in the number of estimator."
   ]
  },
  {
   "cell_type": "markdown",
   "metadata": {},
   "source": [
    "# Tuned Models with full train set"
   ]
  },
  {
   "cell_type": "code",
   "execution_count": 19,
   "metadata": {},
   "outputs": [
    {
     "name": "stdout",
     "output_type": "stream",
     "text": [
      "Decision tree accuracy (test set): 0.6440\n"
     ]
    }
   ],
   "source": [
    "# Tuned Decision tree\n",
    "tree_tuned = DecisionTreeClassifier(max_depth= df_tree_scores.loc[tree_idx,'tree__max_depth'])\n",
    "pca_tuned = PCA(n_compo)\n",
    "pipe = Pipeline([('pca', pca_tuned),('tree', tree_tuned)])\n",
    "pipe.fit(Xo_train, y_train)\n",
    "tree_tuned_acc = pipe.score(Xo_test, y_test)\n",
    "print ('Decision tree accuracy (test set): {:.4f}'.format(tree_tuned_acc))"
   ]
  },
  {
   "cell_type": "code",
   "execution_count": 17,
   "metadata": {},
   "outputs": [
    {
     "name": "stdout",
     "output_type": "stream",
     "text": [
      "Random forest accuracy (test set): 0.7960\n"
     ]
    }
   ],
   "source": [
    "# Tuned Random forest\n",
    "Rforest_tuned = RandomForestClassifier(n_estimators = df_Rforest_scores.loc[Rf_idx,'Rforest__n_estimators'], n_jobs=-1)\n",
    "pipe = Pipeline([('pca', None),('tree', Rforest_tuned)])\n",
    "pipe.fit(Xo_train, y_train)\n",
    "Rforest_tuned_acc = pipe.score(Xo_test, y_test)\n",
    "print ('Random forest accuracy (test set): {:.4f}'.format(Rforest_tuned_acc))"
   ]
  }
 ],
 "metadata": {
  "kernelspec": {
   "display_name": "Python [conda env:exts-aml2]",
   "language": "python",
   "name": "conda-env-exts-aml2-py"
  },
  "language_info": {
   "codemirror_mode": {
    "name": "ipython",
    "version": 3
   },
   "file_extension": ".py",
   "mimetype": "text/x-python",
   "name": "python",
   "nbconvert_exporter": "python",
   "pygments_lexer": "ipython3",
   "version": "3.6.4"
  }
 },
 "nbformat": 4,
 "nbformat_minor": 2
}
