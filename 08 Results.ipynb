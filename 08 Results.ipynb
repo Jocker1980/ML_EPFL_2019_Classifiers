{
 "cells": [
  {
   "cell_type": "markdown",
   "metadata": {},
   "source": [
    "# 08 Final comparison"
   ]
  },
  {
   "cell_type": "code",
   "execution_count": 12,
   "metadata": {},
   "outputs": [
    {
     "data": {
      "text/html": [
       "<div>\n",
       "<style scoped>\n",
       "    .dataframe tbody tr th:only-of-type {\n",
       "        vertical-align: middle;\n",
       "    }\n",
       "\n",
       "    .dataframe tbody tr th {\n",
       "        vertical-align: top;\n",
       "    }\n",
       "\n",
       "    .dataframe thead th {\n",
       "        text-align: right;\n",
       "    }\n",
       "</style>\n",
       "<table border=\"1\" class=\"dataframe\">\n",
       "  <thead>\n",
       "    <tr style=\"text-align: right;\">\n",
       "      <th></th>\n",
       "      <th>Estimator</th>\n",
       "      <th>Test accuracy</th>\n",
       "    </tr>\n",
       "  </thead>\n",
       "  <tbody>\n",
       "    <tr>\n",
       "      <th>0</th>\n",
       "      <td>Baseline</td>\n",
       "      <td>0.228</td>\n",
       "    </tr>\n",
       "    <tr>\n",
       "      <th>1</th>\n",
       "      <td>KNeighbors</td>\n",
       "      <td>0.772</td>\n",
       "    </tr>\n",
       "    <tr>\n",
       "      <th>2</th>\n",
       "      <td>Decision Tree</td>\n",
       "      <td>0.672</td>\n",
       "    </tr>\n",
       "    <tr>\n",
       "      <th>3</th>\n",
       "      <td>Random Forest</td>\n",
       "      <td>0.798</td>\n",
       "    </tr>\n",
       "    <tr>\n",
       "      <th>4</th>\n",
       "      <td>SVM Linear Kernel</td>\n",
       "      <td>0.810</td>\n",
       "    </tr>\n",
       "    <tr>\n",
       "      <th>5</th>\n",
       "      <td>SVM RBF Kernel</td>\n",
       "      <td>0.796</td>\n",
       "    </tr>\n",
       "    <tr>\n",
       "      <th>6</th>\n",
       "      <td>Logistic Regression</td>\n",
       "      <td>0.833</td>\n",
       "    </tr>\n",
       "    <tr>\n",
       "      <th>7</th>\n",
       "      <td>Multilayer FC Neural Network</td>\n",
       "      <td>0.810</td>\n",
       "    </tr>\n",
       "    <tr>\n",
       "      <th>8</th>\n",
       "      <td>Convolutional Neural Network</td>\n",
       "      <td>0.724</td>\n",
       "    </tr>\n",
       "  </tbody>\n",
       "</table>\n",
       "</div>"
      ],
      "text/plain": [
       "                      Estimator  Test accuracy\n",
       "0                      Baseline          0.228\n",
       "1                    KNeighbors          0.772\n",
       "2                 Decision Tree          0.672\n",
       "3                 Random Forest          0.798\n",
       "4             SVM Linear Kernel          0.810\n",
       "5                SVM RBF Kernel          0.796\n",
       "6           Logistic Regression          0.833\n",
       "7  Multilayer FC Neural Network          0.810\n",
       "8  Convolutional Neural Network          0.724"
      ]
     },
     "execution_count": 12,
     "metadata": {},
     "output_type": "execute_result"
    }
   ],
   "source": [
    "import pandas as pd\n",
    "# Make a dictionary to store results\n",
    "results = {'Estimator': ['Baseline', 'KNeighbors','Decision Tree','Random Forest',\n",
    "                         'SVM Linear Kernel','SVM RBF Kernel','Logistic Regression',\n",
    "                         'Multilayer FC Neural Network','Convolutional Neural Network'],\n",
    "          'Test accuracy': [0.228, 0.772, 0.672, 0.798, 0.810, 0.796, 0.833, 0.810, 0.724]}\n",
    "\n",
    "# Create a Dataframe and display it\n",
    "results = pd.DataFrame.from_dict(results)\n",
    "results"
   ]
  },
  {
   "cell_type": "markdown",
   "metadata": {},
   "source": [
    "# Final comments\n",
    "\n",
    "### Dear teacher, I thank you for reveiwing my program. It was not easy to spend all the required time to finish it. I am working at 100% and have a family. I should be one of the slowest student :) . But I am deeply convinced this time is a great investment. I would appreciate if you could give me some hints as my code is certainly full of beginner style items.\n",
    "\n",
    "\n",
    "- It looks like out of my beginner works Logistic Regression win. But I am sure, one can better tune these smart algorithms. I hope to come back to that code some years or months later and to smile at my code.\n",
    "\n",
    "\n",
    "- My main difficulties were with image tasks.\n",
    "\n",
    "\n",
    "- It was a hard and long project, a lot of code specificities and kind of algorithms that are close but not the same. It's a lot of matter for an old almost 40 y.o. brain like mine but almost every single minute working on it was pure joy. (except some long debugging sessions)."
   ]
  },
  {
   "cell_type": "markdown",
   "metadata": {},
   "source": [
    "# Final requests\n",
    "\n",
    "- If you like my course project it would be very kind to you to express it in the reply email. I am trying to get new tasks related to analytics in my workplace to start working as Data Analyst. A great comment from you will encourage me and certainly be helpful to allow me justifing such activites at work.\n",
    "\n",
    "\n",
    "- I am looking to integer a pythonista group to learn by doing in group. How can I find such a group any idea ?\n",
    "\n",
    "\n",
    "# --------------- A big Thank you for considering my requests !!! :) -------------------"
   ]
  },
  {
   "cell_type": "code",
   "execution_count": null,
   "metadata": {},
   "outputs": [],
   "source": []
  }
 ],
 "metadata": {
  "kernelspec": {
   "display_name": "Python [conda env:exts-aml2]",
   "language": "python",
   "name": "conda-env-exts-aml2-py"
  },
  "language_info": {
   "codemirror_mode": {
    "name": "ipython",
    "version": 3
   },
   "file_extension": ".py",
   "mimetype": "text/x-python",
   "name": "python",
   "nbconvert_exporter": "python",
   "pygments_lexer": "ipython3",
   "version": "3.6.4"
  }
 },
 "nbformat": 4,
 "nbformat_minor": 2
}
