{
 "cells": [
  {
   "cell_type": "markdown",
   "metadata": {},
   "source": [
    "# 02 k-Nearest Neighbors classifier"
   ]
  },
  {
   "cell_type": "markdown",
   "metadata": {},
   "source": [
    "## Perform the following tasks\n",
    "\n",
    "### Using the high-level OverFeat features\n",
    "\n",
    "- Create a Pipeline with PCA and KNeighborsClassifier steps.\n",
    "- Split the train set into a (smaller) train and validation sets with respectively 3,200 and 800 points.\n",
    "- Tune k and distance metric using grid search on those train/validation sets.\n",
    "- Print the validation accuracy of each combination of parameters.\n",
    "- Find the combination with the best validation accuracy and print it.\n",
    "- Fit tuned classifier on the entire train set with 4,000 data points. Evaluate and print the test accuracy.\n",
    "- Pick a test image and plot it with its 10 nearest neighbors from the train set."
   ]
  },
  {
   "cell_type": "markdown",
   "metadata": {},
   "source": [
    "## Load data"
   ]
  },
  {
   "cell_type": "code",
   "execution_count": 1,
   "metadata": {},
   "outputs": [],
   "source": [
    "import pandas as pd\n",
    "import numpy as np\n",
    "import matplotlib.pyplot as plt\n",
    "%matplotlib inline\n",
    "from sklearn.model_selection import train_test_split, ParameterGrid\n",
    "from sklearn.pipeline import Pipeline\n",
    "from sklearn.neighbors import KNeighborsClassifier\n",
    "from sklearn.preprocessing import StandardScaler\n",
    "from sklearn.decomposition import PCA"
   ]
  },
  {
   "cell_type": "code",
   "execution_count": 4,
   "metadata": {},
   "outputs": [
    {
     "name": "stdout",
     "output_type": "stream",
     "text": [
      "Data keys dict_keys(['pixels', 'overfeat', 'labels', 'names', 'allow_pickle'])\n"
     ]
    }
   ],
   "source": [
    "# Load the data form the .npz\n",
    "with np.load('cifar4-train.npz', allow_pickle=False) as npz_file:\n",
    "    cifar4 = dict(npz_file.items())\n",
    "# Overview of the data content    \n",
    "print('Data keys {}'.format(cifar4.keys()))"
   ]
  },
  {
   "cell_type": "code",
   "execution_count": 5,
   "metadata": {
    "collapsed": true
   },
   "outputs": [
    {
     "name": "stdout",
     "output_type": "stream",
     "text": [
      "\n",
      " pixels shape: (5000, 3072) \n",
      " pixels dtype: uint8\n",
      "\n",
      " overfeat shape: (5000, 4096) \n",
      " overfeat dtype: float32\n",
      "\n",
      " labels shape: (5000,) \n",
      " labels dtype: int64\n",
      "\n",
      " names shape: (4,) \n",
      " names dtype: <U8\n",
      "\n",
      " allow_pickle shape: () \n",
      " allow_pickle dtype: bool\n"
     ]
    }
   ],
   "source": [
    "# Generate the features matrices with pixels and overfeat\n",
    "# Create X/y arrays\n",
    "Xo = cifar4['overfeat']\n",
    "Xp = cifar4['pixels']\n",
    "y = cifar4['labels']\n",
    "names = cifar4['names']\n",
    "\n",
    "# Explore data verify the dtype of Xo to be float32\n",
    "inside = npz_file.files\n",
    "for c in inside:\n",
    "        print('\\n',str(c)+' shape: '+str(cifar4[c].shape),\n",
    "              '\\n',str(c)+' dtype: '+str(cifar4[c].dtype))"
   ]
  },
  {
   "cell_type": "code",
   "execution_count": 6,
   "metadata": {},
   "outputs": [],
   "source": [
    "# Partition data set to be able to assess model performance and over/under fitting issues\n",
    "from sklearn.model_selection import train_test_split\n",
    "\n",
    "# Split data into train/test sets and insure balanced data sets (stratify)\n",
    "# Include pixels data set split for last part of exercise\n",
    "Xo_train, Xo_test, y_train, y_test, Xp_train, Xp_test, label_train, label_test = train_test_split(\n",
    "    Xo, y, Xp, y, train_size=4000, test_size=1000,\n",
    "    random_state=0, stratify=y)\n",
    "\n",
    "# Split data into train/validation sets and insure balanced data sets (stratify)\n",
    "Xo_tr, Xo_valid, y_tr, y_valid = train_test_split(\n",
    "    Xo_train, y_train, train_size=3200, test_size=800,\n",
    "    random_state=0, stratify=y_train)# select y_train for the second Split"
   ]
  },
  {
   "cell_type": "markdown",
   "metadata": {},
   "source": [
    "## Create a first k-NN classifier"
   ]
  },
  {
   "cell_type": "code",
   "execution_count": 52,
   "metadata": {},
   "outputs": [
    {
     "name": "stdout",
     "output_type": "stream",
     "text": [
      "Accuracy first classifier is: 0.761\n"
     ]
    }
   ],
   "source": [
    "# Create a first k-NN classifier\n",
    "knn = KNeighborsClassifier(\n",
    "        algorithm='brute', # Brute-force search\n",
    "        n_jobs=-1 # As many parallel jobs as possible\n",
    "    )\n",
    "\n",
    "# Create a PCA object\n",
    "# Reducing the number of dimensions before applying k-NN should improve the\n",
    "# speed and accuracy of your estimator.\n",
    "# from data exploration stage one knows that with 162 and 387 first components 90-95%\n",
    "# of variance is explained, then one can take the mean ~275\n",
    "pca = PCA(n_components=275)\n",
    "\n",
    "# Create a Pipeline object\n",
    "pipe = Pipeline([('pca', pca), ('knn', knn)])\n",
    "pipe.fit(Xo_train, y_train)\n",
    "# Compute accuracy\n",
    "accuracy = pipe.score(Xo_test, y_test)\n",
    "print ('Accuracy first classifier is: {:.3f}'.format(accuracy))"
   ]
  },
  {
   "cell_type": "markdown",
   "metadata": {},
   "source": [
    "## Create the best k-NN classifier"
   ]
  },
  {
   "cell_type": "code",
   "execution_count": 26,
   "metadata": {},
   "outputs": [],
   "source": [
    "# Create the best k-NN classifier based on the small train set and validation set\n",
    "# This way to proceed allow to define the best parameters/hyperparameters based on validation set\n",
    "\n",
    "# Redefine the pipeline with a scaler step to be assessed if better with or not\n",
    "pipe = Pipeline([\n",
    "    #('scaler', StandardScaler()), # Only a little change. \n",
    "    ('pca', pca),\n",
    "    ('knn', KNeighborsClassifier(\n",
    "        algorithm='brute', # Brute-force search\n",
    "        n_jobs=-1 # As many parallel jobs as possible\n",
    "    ))\n",
    "])"
   ]
  },
  {
   "cell_type": "markdown",
   "metadata": {},
   "source": [
    "### Grid search"
   ]
  },
  {
   "cell_type": "code",
   "execution_count": 29,
   "metadata": {},
   "outputs": [
    {
     "name": "stdout",
     "output_type": "stream",
     "text": [
      "Number of combinations: 180\n"
     ]
    }
   ],
   "source": [
    "# Define a set of reasonable values for each parameter\n",
    "n_compo = np.arange(210, 335,25) # 210, 235, .., 310\n",
    "k_values = np.arange(6, 60,3) # 6, 9, 12, .., 57\n",
    "weights_functions = ['uniform', 'distance']\n",
    "distance_types = [1, 2] # L1, L2 distances\n",
    "\n",
    "# Define the grid of parameters and values to assess\n",
    "grid = ParameterGrid({\n",
    "    'pca__n_components': n_compo,\n",
    "    'knn__n_neighbors': k_values,\n",
    "    #'knn__weights': weights_functions, # disabled to match exercise request\n",
    "    'knn__p': distance_types})\n",
    "\n",
    "# Print the number of combinations\n",
    "print('Number of combinations:', len(grid))"
   ]
  },
  {
   "cell_type": "markdown",
   "metadata": {},
   "source": [
    "### Fit & tune parameters / hyperparameters"
   ]
  },
  {
   "cell_type": "code",
   "execution_count": 30,
   "metadata": {
    "collapsed": true
   },
   "outputs": [
    {
     "name": "stdout",
     "output_type": "stream",
     "text": [
      "Combination 1/180\n",
      "Combination 2/180\n",
      "Combination 3/180\n",
      "Combination 4/180\n",
      "Combination 5/180\n",
      "Combination 6/180\n",
      "Combination 7/180\n",
      "Combination 8/180\n",
      "Combination 9/180\n",
      "Combination 10/180\n",
      "Combination 11/180\n",
      "Combination 12/180\n",
      "Combination 13/180\n",
      "Combination 14/180\n",
      "Combination 15/180\n",
      "Combination 16/180\n",
      "Combination 17/180\n",
      "Combination 18/180\n",
      "Combination 19/180\n",
      "Combination 20/180\n",
      "Combination 21/180\n",
      "Combination 22/180\n",
      "Combination 23/180\n",
      "Combination 24/180\n",
      "Combination 25/180\n",
      "Combination 26/180\n",
      "Combination 27/180\n",
      "Combination 28/180\n",
      "Combination 29/180\n",
      "Combination 30/180\n",
      "Combination 31/180\n",
      "Combination 32/180\n",
      "Combination 33/180\n",
      "Combination 34/180\n",
      "Combination 35/180\n",
      "Combination 36/180\n",
      "Combination 37/180\n",
      "Combination 38/180\n",
      "Combination 39/180\n",
      "Combination 40/180\n",
      "Combination 41/180\n",
      "Combination 42/180\n",
      "Combination 43/180\n",
      "Combination 44/180\n",
      "Combination 45/180\n",
      "Combination 46/180\n",
      "Combination 47/180\n",
      "Combination 48/180\n",
      "Combination 49/180\n",
      "Combination 50/180\n",
      "Combination 51/180\n",
      "Combination 52/180\n",
      "Combination 53/180\n",
      "Combination 54/180\n",
      "Combination 55/180\n",
      "Combination 56/180\n",
      "Combination 57/180\n",
      "Combination 58/180\n",
      "Combination 59/180\n",
      "Combination 60/180\n",
      "Combination 61/180\n",
      "Combination 62/180\n",
      "Combination 63/180\n",
      "Combination 64/180\n",
      "Combination 65/180\n",
      "Combination 66/180\n",
      "Combination 67/180\n",
      "Combination 68/180\n",
      "Combination 69/180\n",
      "Combination 70/180\n",
      "Combination 71/180\n",
      "Combination 72/180\n",
      "Combination 73/180\n",
      "Combination 74/180\n",
      "Combination 75/180\n",
      "Combination 76/180\n",
      "Combination 77/180\n",
      "Combination 78/180\n",
      "Combination 79/180\n",
      "Combination 80/180\n",
      "Combination 81/180\n",
      "Combination 82/180\n",
      "Combination 83/180\n",
      "Combination 84/180\n",
      "Combination 85/180\n",
      "Combination 86/180\n",
      "Combination 87/180\n",
      "Combination 88/180\n",
      "Combination 89/180\n",
      "Combination 90/180\n",
      "Combination 91/180\n",
      "Combination 92/180\n",
      "Combination 93/180\n",
      "Combination 94/180\n",
      "Combination 95/180\n",
      "Combination 96/180\n",
      "Combination 97/180\n",
      "Combination 98/180\n",
      "Combination 99/180\n",
      "Combination 100/180\n",
      "Combination 101/180\n",
      "Combination 102/180\n",
      "Combination 103/180\n",
      "Combination 104/180\n",
      "Combination 105/180\n",
      "Combination 106/180\n",
      "Combination 107/180\n",
      "Combination 108/180\n",
      "Combination 109/180\n",
      "Combination 110/180\n",
      "Combination 111/180\n",
      "Combination 112/180\n",
      "Combination 113/180\n",
      "Combination 114/180\n",
      "Combination 115/180\n",
      "Combination 116/180\n",
      "Combination 117/180\n",
      "Combination 118/180\n",
      "Combination 119/180\n",
      "Combination 120/180\n",
      "Combination 121/180\n",
      "Combination 122/180\n",
      "Combination 123/180\n",
      "Combination 124/180\n",
      "Combination 125/180\n",
      "Combination 126/180\n",
      "Combination 127/180\n",
      "Combination 128/180\n",
      "Combination 129/180\n",
      "Combination 130/180\n",
      "Combination 131/180\n",
      "Combination 132/180\n",
      "Combination 133/180\n",
      "Combination 134/180\n",
      "Combination 135/180\n",
      "Combination 136/180\n",
      "Combination 137/180\n",
      "Combination 138/180\n",
      "Combination 139/180\n",
      "Combination 140/180\n",
      "Combination 141/180\n",
      "Combination 142/180\n",
      "Combination 143/180\n",
      "Combination 144/180\n",
      "Combination 145/180\n",
      "Combination 146/180\n",
      "Combination 147/180\n",
      "Combination 148/180\n",
      "Combination 149/180\n",
      "Combination 150/180\n",
      "Combination 151/180\n",
      "Combination 152/180\n",
      "Combination 153/180\n",
      "Combination 154/180\n",
      "Combination 155/180\n",
      "Combination 156/180\n",
      "Combination 157/180\n",
      "Combination 158/180\n",
      "Combination 159/180\n",
      "Combination 160/180\n",
      "Combination 161/180\n",
      "Combination 162/180\n",
      "Combination 163/180\n",
      "Combination 164/180\n",
      "Combination 165/180\n",
      "Combination 166/180\n",
      "Combination 167/180\n",
      "Combination 168/180\n",
      "Combination 169/180\n",
      "Combination 170/180\n",
      "Combination 171/180\n",
      "Combination 172/180\n",
      "Combination 173/180\n",
      "Combination 174/180\n",
      "Combination 175/180\n",
      "Combination 176/180\n",
      "Combination 177/180\n",
      "Combination 178/180\n",
      "Combination 179/180\n",
      "Combination 180/180\n",
      "done!\n"
     ]
    }
   ],
   "source": [
    "# Save accuracy on test set\n",
    "valid_scores = []\n",
    "\n",
    "# Enumerate combinations starting from 1\n",
    "for i, params_dict in enumerate(grid, 1):\n",
    "    # Print progress\n",
    "    print('Combination {}/{}'.format(\n",
    "        i, len(grid) # Total number of combinations\n",
    "    ))\n",
    "    \n",
    "    # Set parameters\n",
    "    pipe.set_params(**params_dict)\n",
    "\n",
    "    # Fit a k-NN classifier\n",
    "    pipe.fit(Xo_tr, y_tr) # fit on the small train set to tune parameters\n",
    "\n",
    "    # Save accuracy on validation set\n",
    "    params_dict['accuracy'] = pipe.score(Xo_valid, y_valid) # assess with validation to tune parameter hyperparameters\n",
    "\n",
    "    # Save result and corresponding configuration\n",
    "    valid_scores.append(params_dict)\n",
    "\n",
    "print('done!')"
   ]
  },
  {
   "cell_type": "markdown",
   "metadata": {},
   "source": [
    "### Score dataframe & best results"
   ]
  },
  {
   "cell_type": "code",
   "execution_count": 31,
   "metadata": {
    "scrolled": false
   },
   "outputs": [
    {
     "data": {
      "text/html": [
       "<div>\n",
       "<style scoped>\n",
       "    .dataframe tbody tr th:only-of-type {\n",
       "        vertical-align: middle;\n",
       "    }\n",
       "\n",
       "    .dataframe tbody tr th {\n",
       "        vertical-align: top;\n",
       "    }\n",
       "\n",
       "    .dataframe thead th {\n",
       "        text-align: right;\n",
       "    }\n",
       "</style>\n",
       "<table border=\"1\" class=\"dataframe\">\n",
       "  <thead>\n",
       "    <tr style=\"text-align: right;\">\n",
       "      <th></th>\n",
       "      <th>accuracy</th>\n",
       "      <th>knn__n_neighbors</th>\n",
       "      <th>knn__p</th>\n",
       "      <th>pca__n_components</th>\n",
       "    </tr>\n",
       "  </thead>\n",
       "  <tbody>\n",
       "    <tr>\n",
       "      <th>105</th>\n",
       "      <td>0.78000</td>\n",
       "      <td>36</td>\n",
       "      <td>2</td>\n",
       "      <td>210</td>\n",
       "    </tr>\n",
       "    <tr>\n",
       "      <th>106</th>\n",
       "      <td>0.77875</td>\n",
       "      <td>36</td>\n",
       "      <td>2</td>\n",
       "      <td>235</td>\n",
       "    </tr>\n",
       "    <tr>\n",
       "      <th>99</th>\n",
       "      <td>0.77750</td>\n",
       "      <td>33</td>\n",
       "      <td>2</td>\n",
       "      <td>310</td>\n",
       "    </tr>\n",
       "    <tr>\n",
       "      <th>96</th>\n",
       "      <td>0.77750</td>\n",
       "      <td>33</td>\n",
       "      <td>2</td>\n",
       "      <td>235</td>\n",
       "    </tr>\n",
       "    <tr>\n",
       "      <th>85</th>\n",
       "      <td>0.77625</td>\n",
       "      <td>30</td>\n",
       "      <td>2</td>\n",
       "      <td>210</td>\n",
       "    </tr>\n",
       "    <tr>\n",
       "      <th>135</th>\n",
       "      <td>0.77625</td>\n",
       "      <td>45</td>\n",
       "      <td>2</td>\n",
       "      <td>210</td>\n",
       "    </tr>\n",
       "    <tr>\n",
       "      <th>87</th>\n",
       "      <td>0.77625</td>\n",
       "      <td>30</td>\n",
       "      <td>2</td>\n",
       "      <td>260</td>\n",
       "    </tr>\n",
       "    <tr>\n",
       "      <th>158</th>\n",
       "      <td>0.77625</td>\n",
       "      <td>51</td>\n",
       "      <td>2</td>\n",
       "      <td>285</td>\n",
       "    </tr>\n",
       "    <tr>\n",
       "      <th>125</th>\n",
       "      <td>0.77625</td>\n",
       "      <td>42</td>\n",
       "      <td>2</td>\n",
       "      <td>210</td>\n",
       "    </tr>\n",
       "    <tr>\n",
       "      <th>109</th>\n",
       "      <td>0.77625</td>\n",
       "      <td>36</td>\n",
       "      <td>2</td>\n",
       "      <td>310</td>\n",
       "    </tr>\n",
       "  </tbody>\n",
       "</table>\n",
       "</div>"
      ],
      "text/plain": [
       "     accuracy  knn__n_neighbors  knn__p  pca__n_components\n",
       "105   0.78000                36       2                210\n",
       "106   0.77875                36       2                235\n",
       "99    0.77750                33       2                310\n",
       "96    0.77750                33       2                235\n",
       "85    0.77625                30       2                210\n",
       "135   0.77625                45       2                210\n",
       "87    0.77625                30       2                260\n",
       "158   0.77625                51       2                285\n",
       "125   0.77625                42       2                210\n",
       "109   0.77625                36       2                310"
      ]
     },
     "execution_count": 31,
     "metadata": {},
     "output_type": "execute_result"
    }
   ],
   "source": [
    "# Store validation score and hyperparameters configuration in a df\n",
    "valid_scores = pd.DataFrame(valid_scores)\n",
    "valid_scores.sort_values(by='accuracy', ascending=False).head(10)\n",
    "# Plot all the score\n",
    "#valid_scores.sort_values(by='accuracy', ascending=False).head(len(grid))"
   ]
  },
  {
   "cell_type": "code",
   "execution_count": 32,
   "metadata": {},
   "outputs": [
    {
     "name": "stdout",
     "output_type": "stream",
     "text": [
      "Top accuracy on validation set: 0.780 with k:36 and distance metric:2.\n",
      "Top accuracy on validation set with 210 PCA components.\n"
     ]
    }
   ],
   "source": [
    "# Print out the best configuration and score on validation set \n",
    "idx = valid_scores['accuracy'].idxmax()\n",
    "print ('Top accuracy on validation set: {:.3f} with k:{} and distance metric:{}.'\n",
    "       .format(valid_scores.loc[idx,'accuracy'],\n",
    "               valid_scores.loc[idx,'knn__n_neighbors'],\n",
    "               valid_scores.loc[idx,'knn__p']))\n",
    "print ('Top accuracy on validation set with {} PCA components.'\n",
    "       .format(valid_scores.loc[idx,'pca__n_components']))"
   ]
  },
  {
   "cell_type": "code",
   "execution_count": 40,
   "metadata": {},
   "outputs": [
    {
     "name": "stdout",
     "output_type": "stream",
     "text": [
      "Best-kNN accuracy (test set): 0.772\n"
     ]
    }
   ],
   "source": [
    "# Based on previous analysis compute the Best kNN\n",
    "k_best = valid_scores.loc[idx,'knn__n_neighbors']\n",
    "p_best = valid_scores.loc[idx,'knn__p']\n",
    "n_compo_best = valid_scores.loc[idx,'pca__n_components']\n",
    "pca_best = PCA(n_compo_best)\n",
    "Best_kNN = KNeighborsClassifier(p=p_best, n_neighbors=k_best, algorithm='brute', n_jobs=-1)\n",
    "# Reconfigure Pipeline to best config\n",
    "pipe = Pipeline([('pca', pca_best),('knn', Best_kNN)])\n",
    "#pipe = Pipeline([pca,('knn', Best_kNN)])\n",
    "pipe.fit(Xo_train, y_train) # use the whole train set\n",
    "# Compute accuracy\n",
    "best_accuracy = pipe.score(Xo_test, y_test) # assess on test set\n",
    "print ('Best-kNN accuracy (test set): {:.3f}'.format(best_accuracy))"
   ]
  },
  {
   "cell_type": "markdown",
   "metadata": {},
   "source": [
    "All the tuning work did not improve a lot."
   ]
  },
  {
   "cell_type": "markdown",
   "metadata": {},
   "source": [
    "## Test image & 10 nearest neighbors"
   ]
  },
  {
   "cell_type": "markdown",
   "metadata": {},
   "source": [
    "#### Variable exploration"
   ]
  },
  {
   "cell_type": "code",
   "execution_count": 42,
   "metadata": {},
   "outputs": [
    {
     "name": "stdout",
     "output_type": "stream",
     "text": [
      "(4096,)\n"
     ]
    }
   ],
   "source": [
    "# Select an image and print its shape\n",
    "print(Xo_test[5].shape)"
   ]
  },
  {
   "cell_type": "markdown",
   "metadata": {},
   "source": [
    "One has a column vertor of 4096 elements. One wants a image under the row shape, like (1 row,n colums) with n that is different from 0. "
   ]
  },
  {
   "cell_type": "code",
   "execution_count": 43,
   "metadata": {},
   "outputs": [
    {
     "data": {
      "text/plain": [
       "(1, 4096)"
      ]
     },
     "execution_count": 43,
     "metadata": {},
     "output_type": "execute_result"
    }
   ],
   "source": [
    "X_img = Xo_test[5].reshape(1, -1)\n",
    "X_img.shape"
   ]
  },
  {
   "cell_type": "markdown",
   "metadata": {},
   "source": [
    "#### Get the 10 nearest"
   ]
  },
  {
   "cell_type": "code",
   "execution_count": 49,
   "metadata": {
    "scrolled": true
   },
   "outputs": [],
   "source": [
    "# Select an image\n",
    "My_test_image = 429\n",
    "# Reshape it from a column vector to a row vector\n",
    "X_img = Xo_test[My_test_image].reshape(1, -1)\n",
    "\n",
    "# Apply PCA and get the 10 nearest neighbors\n",
    "neighbors = Best_kNN.kneighbors(pca_best.transform(X_img), 10)\n",
    "# Get indexes of the 10 nearest\n",
    "idx = np.ravel(neighbors[1])\n",
    "# Get distances of the 10 nearest\n",
    "distance = np.ravel(neighbors[0])\n",
    "#idx"
   ]
  },
  {
   "cell_type": "markdown",
   "metadata": {},
   "source": [
    "#### Display results"
   ]
  },
  {
   "cell_type": "code",
   "execution_count": 50,
   "metadata": {
    "scrolled": true
   },
   "outputs": [
    {
     "data": {
      "image/png": "[encoded data removed]",
      "text/plain": [
       "<matplotlib.figure.Figure at 0x213c1a58>"
      ]
     },
     "metadata": {
      "needs_background": "light"
     },
     "output_type": "display_data"
    },
    {
     "data": {
      "image/png": "[encoded data removed]",
      "text/plain": [
       "<matplotlib.figure.Figure at 0x212f29e8>"
      ]
     },
     "metadata": {
      "needs_background": "light"
     },
     "output_type": "display_data"
    },
    {
     "data": {
      "image/png": "[encoded data removed]",
      "text/plain": [
       "<matplotlib.figure.Figure at 0x212f76d8>"
      ]
     },
     "metadata": {
      "needs_background": "light"
     },
     "output_type": "display_data"
    },
    {
     "data": {
      "image/png": "[encoded data removed]",
      "text/plain": [
       "<matplotlib.figure.Figure at 0x2a4a8ef0>"
      ]
     },
     "metadata": {
      "needs_background": "light"
     },
     "output_type": "display_data"
    },
    {
     "data": {
      "image/png": "[encoded data removed]",
      "text/plain": [
       "<matplotlib.figure.Figure at 0x29bf6828>"
      ]
     },
     "metadata": {
      "needs_background": "light"
     },
     "output_type": "display_data"
    },
    {
     "data": {
      "image/png": "[encoded data removed]",
      "text/plain": [
       "<matplotlib.figure.Figure at 0x299bc860>"
      ]
     },
     "metadata": {
      "needs_background": "light"
     },
     "output_type": "display_data"
    },
    {
     "data": {
      "image/png": "[encoded data removed]",
      "text/plain": [
       "<matplotlib.figure.Figure at 0x29b2bb38>"
      ]
     },
     "metadata": {
      "needs_background": "light"
     },
     "output_type": "display_data"
    },
    {
     "data": {
      "image/png": "[encoded data removed]",
      "text/plain": [
       "<matplotlib.figure.Figure at 0x299d3fd0>"
      ]
     },
     "metadata": {
      "needs_background": "light"
     },
     "output_type": "display_data"
    },
    {
     "data": {
      "image/png": "[encoded data removed]",
      "text/plain": [
       "<matplotlib.figure.Figure at 0x215e9898>"
      ]
     },
     "metadata": {
      "needs_background": "light"
     },
     "output_type": "display_data"
    },
    {
     "data": {
      "image/png": "[encoded data removed]",
      "text/plain": [
       "<matplotlib.figure.Figure at 0x29b91b00>"
      ]
     },
     "metadata": {
      "needs_background": "light"
     },
     "output_type": "display_data"
    },
    {
     "data": {
      "image/png": "[encoded data removed]",
      "text/plain": [
       "<matplotlib.figure.Figure at 0x21333b38>"
      ]
     },
     "metadata": {
      "needs_background": "light"
     },
     "output_type": "display_data"
    }
   ],
   "source": [
    "# Display the selected image\n",
    "flat_img = Xp_test[My_test_image]\n",
    "img = flat_img.reshape(32, 32, 3)\n",
    "plt.title(names[label_test[My_test_image]])\n",
    "plt.axis('off') # Hide the x- and y-axis\n",
    "plt.imshow(img)\n",
    "plt.show()\n",
    "# Display the 10 nearest neighbors from the train set\n",
    "for i, x in enumerate(idx):\n",
    "    flat_img = Xp_train[x, :]\n",
    "    img = flat_img.reshape(32, 32, 3)\n",
    "    plt.axis('off') # Hide the x- and y-axis\n",
    "    plt.title(s=(names[label_train[x]],'d:{:.2f}'.format(distance[i])))\n",
    "    plt.imshow(img)\n",
    "    plt.show()"
   ]
  }
 ],
 "metadata": {
  "kernelspec": {
   "display_name": "Python [conda env:exts-aml2]",
   "language": "python",
   "name": "conda-env-exts-aml2-py"
  },
  "language_info": {
   "codemirror_mode": {
    "name": "ipython",
    "version": 3
   },
   "file_extension": ".py",
   "mimetype": "text/x-python",
   "name": "python",
   "nbconvert_exporter": "python",
   "pygments_lexer": "ipython3",
   "version": "3.6.4"
  }
 },
 "nbformat": 4,
 "nbformat_minor": 2
}
