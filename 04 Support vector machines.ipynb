{
 "cells": [
  {
   "cell_type": "markdown",
   "metadata": {},
   "source": [
    "# 04 Support Vector Machines"
   ]
  },
  {
   "cell_type": "markdown",
   "metadata": {},
   "source": [
    "## Perform the following tasks\n",
    "\n",
    "### Using the OverFeat features:\n",
    "\n",
    "\n",
    "#### For the SVM classifier classifier with a linear kernel:\n",
    "\n",
    "- Create an SVM classifier with a linear kernel. Tune its C parameter.\n",
    "- Tune the parameters using grid search with cross-validation. Use the stratified 5-fold strategy.\n",
    "- Collect the results in a DataFrame with a column for the mean and the standard deviation of the accuracy values across all folds.\n",
    "\n",
    "#### For the SVM classifier classifier with an RBF kernel:\n",
    "\n",
    "- Create an SVM classifier with an RBF kernel. Tune its C and γ parameters.\n",
    "- The DataFrame for the RBF kernel will have an additional column for the γ values. \n",
    "\n",
    "\n",
    "#### For both:\n",
    "\n",
    "- There are many ways to create an SVM classifier with Scikit-learn, e.g., LinearSVC, SVC or even SGDClassifier with hinge loss. Briefly explain in your code your choice of estimator in both cases.\n",
    "\n",
    "- You might want to use PCA as a preprocessing step before your SVM estimators to improve the results, e.g., speed or accuracy. In any case, justify your choice in a comment or a markdown cell.\n",
    "\n",
    "- In both cases, find (using code) the parameters that maximize the mean accuracy and print them.\n",
    "\n",
    "- Finally, evaluate and report the accuracy of your (tuned) estimators on the 1,000 points from the test set."
   ]
  },
  {
   "cell_type": "markdown",
   "metadata": {},
   "source": [
    "## Load data"
   ]
  },
  {
   "cell_type": "code",
   "execution_count": 1,
   "metadata": {},
   "outputs": [],
   "source": [
    "import pandas as pd\n",
    "import numpy as np\n",
    "import matplotlib.pyplot as plt\n",
    "%matplotlib inline\n",
    "from sklearn.model_selection import train_test_split, GridSearchCV\n",
    "from sklearn.pipeline import Pipeline\n",
    "from sklearn.preprocessing import StandardScaler\n",
    "from sklearn.decomposition import PCA\n",
    "from sklearn.svm import LinearSVC, SVC"
   ]
  },
  {
   "cell_type": "code",
   "execution_count": 2,
   "metadata": {},
   "outputs": [
    {
     "name": "stdout",
     "output_type": "stream",
     "text": [
      "Data keys dict_keys(['pixels', 'overfeat', 'labels', 'names', 'allow_pickle'])\n"
     ]
    }
   ],
   "source": [
    "# Load the data form the .npz\n",
    "with np.load('cifar4-train.npz', allow_pickle=False) as npz_file:\n",
    "    cifar4 = dict(npz_file.items())\n",
    "# Overview of the data content    \n",
    "print('Data keys {}'.format(cifar4.keys()))"
   ]
  },
  {
   "cell_type": "code",
   "execution_count": 3,
   "metadata": {},
   "outputs": [],
   "source": [
    "# Generate the features matrices with pixels and overfeat\n",
    "# Create X/y arrays\n",
    "Xo = cifar4['overfeat']\n",
    "y = cifar4['labels']"
   ]
  },
  {
   "cell_type": "code",
   "execution_count": 4,
   "metadata": {},
   "outputs": [],
   "source": [
    "# Partition data set to be able to assess model performance and over/under fitting issues\n",
    "from sklearn.model_selection import train_test_split\n",
    "\n",
    "# Split data into train/test sets and insure balanced data sets (stratify)\n",
    "Xo_train, Xo_test, y_train, y_test = train_test_split(Xo, y, train_size=4000, test_size=1000,\n",
    "    random_state=0, stratify=y)\n",
    "#print ('Size of Xo_train, y_train :', Xo_train.shape, y_train.shape)\n",
    "#print ('Size of Xo_test, y_test :', Xo_test.shape, y_test.shape)"
   ]
  },
  {
   "cell_type": "markdown",
   "metadata": {},
   "source": [
    "## SVM classifier with a linear kernel\n",
    "Our data set has a lot of features. It means the classifier could tend to overfit.\n",
    "To prevent this one will use a PCA as preprocessing step to reduce dimentionality and then the number of features."
   ]
  },
  {
   "cell_type": "code",
   "execution_count": 16,
   "metadata": {},
   "outputs": [],
   "source": [
    "# Create SVM classifier with linear kernel\n",
    "linSVC=LinearSVC()\n",
    "# Create a PCA object\n",
    "# From data exploration stage one knows that with 162 and 387 first components 90-95%\n",
    "# of variance is explained, then one can take the mean ~275 to start\n",
    "n_compo = 210 # adjusted to  after the grid search\n",
    "pca = PCA(n_components=210)\n",
    "\n",
    "# Create a pipeline with a scaler & PCA steps to be assessed if better with or not\n",
    "pipe = Pipeline([\n",
    "    #('scaler', StandardScaler()), # to test with/without\n",
    "    ('pca', pca),\n",
    "    ('linearsvc', linSVC)\n",
    "])"
   ]
  },
  {
   "cell_type": "markdown",
   "metadata": {},
   "source": [
    "### Grid search"
   ]
  },
  {
   "cell_type": "code",
   "execution_count": 17,
   "metadata": {},
   "outputs": [],
   "source": [
    "# Define the grid of parameters and values to assess\n",
    "# Define a set of C values\n",
    "C_val = [0.0001, 0.001,0.01,0.1,1,10] # np.logspace(-4, 1, num=6) #C_val={0.0001, 0.001,0.01,0.1,1,10}\n",
    "n_compo = np.arange(160, 260,25) # 160, 185, .., 260\n",
    "\n",
    "# Create cross-validation object\n",
    "grid_cv = GridSearchCV(pipe, {'pca__n_components': n_compo,\n",
    "                              'linearsvc__C':C_val,\n",
    "                              },\n",
    "                              cv=5,\n",
    "                              n_jobs=-1\n",
    "                              )\n"
   ]
  },
  {
   "cell_type": "code",
   "execution_count": 18,
   "metadata": {},
   "outputs": [
    {
     "data": {
      "text/plain": [
       "GridSearchCV(cv=5, error_score='raise',\n",
       "       estimator=Pipeline(memory=None,\n",
       "     steps=[('pca', PCA(copy=True, iterated_power='auto', n_components=210, random_state=None,\n",
       "  svd_solver='auto', tol=0.0, whiten=False)), ('linearsvc', LinearSVC(C=1.0, class_weight=None, dual=True, fit_intercept=True,\n",
       "     intercept_scaling=1, loss='squared_hinge', max_iter=1000,\n",
       "     multi_class='ovr', penalty='l2', random_state=None, tol=0.0001,\n",
       "     verbose=0))]),\n",
       "       fit_params=None, iid=True, n_jobs=-1,\n",
       "       param_grid={'pca__n_components': array([160, 185, 210, 235]), 'linearsvc__C': [0.0001, 0.001, 0.01, 0.1, 1, 10]},\n",
       "       pre_dispatch='2*n_jobs', refit=True, return_train_score=True,\n",
       "       scoring=None, verbose=0)"
      ]
     },
     "execution_count": 18,
     "metadata": {},
     "output_type": "execute_result"
    }
   ],
   "source": [
    "# Fit estimator\n",
    "grid_cv.fit(Xo_train, y_train)"
   ]
  },
  {
   "cell_type": "code",
   "execution_count": 19,
   "metadata": {},
   "outputs": [
    {
     "name": "stdout",
     "output_type": "stream",
     "text": [
      "Number of combinations: 24\n"
     ]
    }
   ],
   "source": [
    "# Print the number of combinations\n",
    "print('Number of combinations:', len(grid_cv.cv_results_['params']))"
   ]
  },
  {
   "cell_type": "markdown",
   "metadata": {},
   "source": [
    "### Score dataframe & best results"
   ]
  },
  {
   "cell_type": "code",
   "execution_count": 20,
   "metadata": {},
   "outputs": [
    {
     "data": {
      "text/plain": [
       "dict_keys(['mean_fit_time', 'std_fit_time', 'mean_score_time', 'std_score_time', 'param_linearsvc__C', 'param_pca__n_components', 'params', 'split0_test_score', 'split1_test_score', 'split2_test_score', 'split3_test_score', 'split4_test_score', 'mean_test_score', 'std_test_score', 'rank_test_score', 'split0_train_score', 'split1_train_score', 'split2_train_score', 'split3_train_score', 'split4_train_score', 'mean_train_score', 'std_train_score'])"
      ]
     },
     "execution_count": 20,
     "metadata": {},
     "output_type": "execute_result"
    }
   ],
   "source": [
    "# Overview of all the keys names\n",
    "grid_cv.cv_results_.keys()"
   ]
  },
  {
   "cell_type": "code",
   "execution_count": 21,
   "metadata": {},
   "outputs": [
    {
     "data": {
      "text/html": [
       "<div>\n",
       "<style scoped>\n",
       "    .dataframe tbody tr th:only-of-type {\n",
       "        vertical-align: middle;\n",
       "    }\n",
       "\n",
       "    .dataframe tbody tr th {\n",
       "        vertical-align: top;\n",
       "    }\n",
       "\n",
       "    .dataframe thead th {\n",
       "        text-align: right;\n",
       "    }\n",
       "</style>\n",
       "<table border=\"1\" class=\"dataframe\">\n",
       "  <thead>\n",
       "    <tr style=\"text-align: right;\">\n",
       "      <th></th>\n",
       "      <th>param_linearsvc__C</th>\n",
       "      <th>mean_test_score</th>\n",
       "      <th>std_test_score</th>\n",
       "      <th>mean_train_score</th>\n",
       "      <th>std_train_score</th>\n",
       "      <th>param_pca__n_components</th>\n",
       "    </tr>\n",
       "  </thead>\n",
       "  <tbody>\n",
       "    <tr>\n",
       "      <th>6</th>\n",
       "      <td>0.001</td>\n",
       "      <td>0.83875</td>\n",
       "      <td>0.015752</td>\n",
       "      <td>0.881500</td>\n",
       "      <td>0.002720</td>\n",
       "      <td>210</td>\n",
       "    </tr>\n",
       "    <tr>\n",
       "      <th>7</th>\n",
       "      <td>0.001</td>\n",
       "      <td>0.83625</td>\n",
       "      <td>0.013555</td>\n",
       "      <td>0.887063</td>\n",
       "      <td>0.002820</td>\n",
       "      <td>235</td>\n",
       "    </tr>\n",
       "    <tr>\n",
       "      <th>5</th>\n",
       "      <td>0.001</td>\n",
       "      <td>0.83450</td>\n",
       "      <td>0.013360</td>\n",
       "      <td>0.876375</td>\n",
       "      <td>0.003209</td>\n",
       "      <td>185</td>\n",
       "    </tr>\n",
       "    <tr>\n",
       "      <th>11</th>\n",
       "      <td>0.01</td>\n",
       "      <td>0.83450</td>\n",
       "      <td>0.013477</td>\n",
       "      <td>0.897813</td>\n",
       "      <td>0.003137</td>\n",
       "      <td>235</td>\n",
       "    </tr>\n",
       "    <tr>\n",
       "      <th>9</th>\n",
       "      <td>0.01</td>\n",
       "      <td>0.83350</td>\n",
       "      <td>0.012309</td>\n",
       "      <td>0.886063</td>\n",
       "      <td>0.002813</td>\n",
       "      <td>185</td>\n",
       "    </tr>\n",
       "  </tbody>\n",
       "</table>\n",
       "</div>"
      ],
      "text/plain": [
       "   param_linearsvc__C  mean_test_score  std_test_score  mean_train_score  \\\n",
       "6               0.001          0.83875        0.015752          0.881500   \n",
       "7               0.001          0.83625        0.013555          0.887063   \n",
       "5               0.001          0.83450        0.013360          0.876375   \n",
       "11               0.01          0.83450        0.013477          0.897813   \n",
       "9                0.01          0.83350        0.012309          0.886063   \n",
       "\n",
       "    std_train_score param_pca__n_components  \n",
       "6          0.002720                     210  \n",
       "7          0.002820                     235  \n",
       "5          0.003209                     185  \n",
       "11         0.003137                     235  \n",
       "9          0.002813                     185  "
      ]
     },
     "execution_count": 21,
     "metadata": {},
     "output_type": "execute_result"
    }
   ],
   "source": [
    "# Create a df with all the desired results for the differents C\n",
    "df_linSVC_results = pd.DataFrame(grid_cv.cv_results_)[['param_linearsvc__C', \n",
    "                                                'mean_test_score', \n",
    "                                                'std_test_score',\n",
    "                                                'mean_train_score',\n",
    "                                                'std_train_score',\n",
    "                                                'param_pca__n_components'\n",
    "                                                      ]]\n",
    "\n",
    "df_linSVC_results.sort_values(by='mean_test_score', ascending= False).head()"
   ]
  },
  {
   "cell_type": "code",
   "execution_count": 22,
   "metadata": {},
   "outputs": [
    {
     "name": "stdout",
     "output_type": "stream",
     "text": [
      "Linear SVM - top accuracy across folds: 0.839 (std: 0.016) with C: 0.0010\n",
      "Top accuracy on test set with 210 PCA components.\n"
     ]
    }
   ],
   "source": [
    "# Print out the best configuration and score on validation set \n",
    "linSVC_idx = df_linSVC_results['mean_test_score'].idxmax()\n",
    "print ('Linear SVM - top accuracy across folds: {:.3f} (std: {:.3f}) with C: {:.4f}'\n",
    "       .format(df_linSVC_results.loc[linSVC_idx,'mean_test_score'],\n",
    "               df_linSVC_results.loc[linSVC_idx,'std_test_score'],\n",
    "               df_linSVC_results.loc[linSVC_idx,'param_linearsvc__C']))\n",
    "\n",
    "print ('Top accuracy on test set with {} PCA components.'\n",
    "       .format(df_linSVC_results.loc[linSVC_idx,'param_pca__n_components']))"
   ]
  },
  {
   "cell_type": "markdown",
   "metadata": {},
   "source": [
    "## SVM classifier with a RFB kernel\n",
    "Our data set has a lot of features. It means the classifier could tend to overfit.\n",
    "To prevent this one will use a PCA as preprocessing step to reduce dimentionality and then the number of features."
   ]
  },
  {
   "cell_type": "code",
   "execution_count": 12,
   "metadata": {},
   "outputs": [],
   "source": [
    "# Create SVM classifier with a RFB kernel\n",
    "Svc_Rbf = SVC(kernel='rbf', random_state=0)\n",
    "\n",
    "# Create a PCA object\n",
    "# From data exploration stage one knows that with 162 and 387 first components 90-95%\n",
    "# of variance is explained, then one can take the mean ~275 to start\n",
    "pca = PCA()\n",
    "\n",
    "# Create a pipeline with a scaler & PCA steps to be assessed if better with or not\n",
    "pipe = Pipeline([\n",
    "    #('scaler', StandardScaler()), # to test with/without\n",
    "    ('pca', pca),\n",
    "    ('svc_rbf', Svc_Rbf) # Create SVM with Rfb kernel\n",
    "])"
   ]
  },
  {
   "cell_type": "markdown",
   "metadata": {},
   "source": [
    "### Grid search"
   ]
  },
  {
   "cell_type": "code",
   "execution_count": 13,
   "metadata": {},
   "outputs": [],
   "source": [
    "# Define the grid of parameters and values to assess\n",
    "# Define a set of C, gamma and component values\n",
    "C_val = [0.001,0.01,0.1] #np.logspace(-4, 1, num=6) # C_val={0.0001, 0.001,0.01,0.1,1,10}\n",
    "gam_val = [0.0001, 0.001] #np.logspace(-4, 0, num=5) # gam_val={0.0001, 0.001, 0.01, 0.1, 1}\n",
    "n_compo = np.arange(160, 260,25) # 160, 185, .., 260\n",
    "\n",
    "# Create cross-validation object\n",
    "grid_cv2 = GridSearchCV(pipe, {'svc_rbf__C':C_val, \n",
    "                              'svc_rbf__gamma':gam_val,\n",
    "                              'pca__n_components': n_compo\n",
    "                             },\n",
    "                       cv=5, n_jobs=-1)"
   ]
  },
  {
   "cell_type": "code",
   "execution_count": 14,
   "metadata": {
    "collapsed": true
   },
   "outputs": [
    {
     "data": {
      "text/plain": [
       "GridSearchCV(cv=5, error_score='raise',\n",
       "       estimator=Pipeline(memory=None,\n",
       "     steps=[('pca', PCA(copy=True, iterated_power='auto', n_components=None, random_state=None,\n",
       "  svd_solver='auto', tol=0.0, whiten=False)), ('svc_rbf', SVC(C=1.0, cache_size=200, class_weight=None, coef0=0.0,\n",
       "  decision_function_shape='ovr', degree=3, gamma='auto', kernel='rbf',\n",
       "  max_iter=-1, probability=False, random_state=0, shrinking=True,\n",
       "  tol=0.001, verbose=False))]),\n",
       "       fit_params=None, iid=True, n_jobs=-1,\n",
       "       param_grid={'svc_rbf__C': [0.001, 0.01, 0.1], 'svc_rbf__gamma': [0.0001, 0.001], 'pca__n_components': array([160, 185, 210, 235])},\n",
       "       pre_dispatch='2*n_jobs', refit=True, return_train_score=True,\n",
       "       scoring=None, verbose=0)"
      ]
     },
     "execution_count": 14,
     "metadata": {},
     "output_type": "execute_result"
    }
   ],
   "source": [
    "# Fit estimator\n",
    "grid_cv2.fit(Xo_train, y_train)"
   ]
  },
  {
   "cell_type": "code",
   "execution_count": 7,
   "metadata": {},
   "outputs": [
    {
     "name": "stdout",
     "output_type": "stream",
     "text": [
      "Number of combinations: 24\n"
     ]
    }
   ],
   "source": [
    "# Print the number of combinations\n",
    "print('Number of combinations:', len(grid_cv2.cv_results_['params']))"
   ]
  },
  {
   "cell_type": "markdown",
   "metadata": {},
   "source": [
    "### Score dataframe & best results"
   ]
  },
  {
   "cell_type": "code",
   "execution_count": 8,
   "metadata": {
    "collapsed": true
   },
   "outputs": [
    {
     "data": {
      "text/plain": [
       "dict_keys(['mean_fit_time', 'std_fit_time', 'mean_score_time', 'std_score_time', 'param_pca__n_components', 'param_svc_rbf__C', 'param_svc_rbf__gamma', 'params', 'split0_test_score', 'split1_test_score', 'split2_test_score', 'split3_test_score', 'split4_test_score', 'mean_test_score', 'std_test_score', 'rank_test_score', 'split0_train_score', 'split1_train_score', 'split2_train_score', 'split3_train_score', 'split4_train_score', 'mean_train_score', 'std_train_score'])"
      ]
     },
     "execution_count": 8,
     "metadata": {},
     "output_type": "execute_result"
    }
   ],
   "source": [
    "# Overview of all the keys names\n",
    "grid_cv2.cv_results_.keys()"
   ]
  },
  {
   "cell_type": "code",
   "execution_count": 9,
   "metadata": {
    "collapsed": true
   },
   "outputs": [
    {
     "data": {
      "text/html": [
       "<div>\n",
       "<style scoped>\n",
       "    .dataframe tbody tr th:only-of-type {\n",
       "        vertical-align: middle;\n",
       "    }\n",
       "\n",
       "    .dataframe tbody tr th {\n",
       "        vertical-align: top;\n",
       "    }\n",
       "\n",
       "    .dataframe thead th {\n",
       "        text-align: right;\n",
       "    }\n",
       "</style>\n",
       "<table border=\"1\" class=\"dataframe\">\n",
       "  <thead>\n",
       "    <tr style=\"text-align: right;\">\n",
       "      <th></th>\n",
       "      <th>param_svc_rbf__C</th>\n",
       "      <th>param_svc_rbf__gamma</th>\n",
       "      <th>mean_test_score</th>\n",
       "      <th>std_test_score</th>\n",
       "      <th>mean_train_score</th>\n",
       "      <th>std_train_score</th>\n",
       "      <th>param_pca__n_components</th>\n",
       "    </tr>\n",
       "  </thead>\n",
       "  <tbody>\n",
       "    <tr>\n",
       "      <th>22</th>\n",
       "      <td>0.1</td>\n",
       "      <td>0.0001</td>\n",
       "      <td>0.78825</td>\n",
       "      <td>0.011308</td>\n",
       "      <td>0.805625</td>\n",
       "      <td>0.002476</td>\n",
       "      <td>235</td>\n",
       "    </tr>\n",
       "    <tr>\n",
       "      <th>4</th>\n",
       "      <td>0.1</td>\n",
       "      <td>0.0001</td>\n",
       "      <td>0.78800</td>\n",
       "      <td>0.010914</td>\n",
       "      <td>0.805250</td>\n",
       "      <td>0.002196</td>\n",
       "      <td>160</td>\n",
       "    </tr>\n",
       "    <tr>\n",
       "      <th>16</th>\n",
       "      <td>0.1</td>\n",
       "      <td>0.0001</td>\n",
       "      <td>0.78800</td>\n",
       "      <td>0.011253</td>\n",
       "      <td>0.805625</td>\n",
       "      <td>0.002330</td>\n",
       "      <td>210</td>\n",
       "    </tr>\n",
       "    <tr>\n",
       "      <th>10</th>\n",
       "      <td>0.1</td>\n",
       "      <td>0.0001</td>\n",
       "      <td>0.78725</td>\n",
       "      <td>0.010794</td>\n",
       "      <td>0.805125</td>\n",
       "      <td>0.002259</td>\n",
       "      <td>185</td>\n",
       "    </tr>\n",
       "    <tr>\n",
       "      <th>14</th>\n",
       "      <td>0.01</td>\n",
       "      <td>0.0001</td>\n",
       "      <td>0.69325</td>\n",
       "      <td>0.007608</td>\n",
       "      <td>0.697375</td>\n",
       "      <td>0.003116</td>\n",
       "      <td>210</td>\n",
       "    </tr>\n",
       "  </tbody>\n",
       "</table>\n",
       "</div>"
      ],
      "text/plain": [
       "   param_svc_rbf__C param_svc_rbf__gamma  mean_test_score  std_test_score  \\\n",
       "22              0.1               0.0001          0.78825        0.011308   \n",
       "4               0.1               0.0001          0.78800        0.010914   \n",
       "16              0.1               0.0001          0.78800        0.011253   \n",
       "10              0.1               0.0001          0.78725        0.010794   \n",
       "14             0.01               0.0001          0.69325        0.007608   \n",
       "\n",
       "    mean_train_score  std_train_score param_pca__n_components  \n",
       "22          0.805625         0.002476                     235  \n",
       "4           0.805250         0.002196                     160  \n",
       "16          0.805625         0.002330                     210  \n",
       "10          0.805125         0.002259                     185  \n",
       "14          0.697375         0.003116                     210  "
      ]
     },
     "execution_count": 9,
     "metadata": {},
     "output_type": "execute_result"
    }
   ],
   "source": [
    "# Create a df with all the desired results for the differents C and gamma\n",
    "df_Svc_Rbf_results = pd.DataFrame(grid_cv2.cv_results_)[['param_svc_rbf__C',\n",
    "                                                        'param_svc_rbf__gamma',\n",
    "                                                        'mean_test_score', \n",
    "                                                        'std_test_score',\n",
    "                                                        'mean_train_score',\n",
    "                                                        'std_train_score',\n",
    "                                                        'param_pca__n_components'\n",
    "                                                       ]]\n",
    "\n",
    "df_Svc_Rbf_results.sort_values(by='mean_test_score', ascending= False).head()"
   ]
  },
  {
   "cell_type": "code",
   "execution_count": 10,
   "metadata": {},
   "outputs": [
    {
     "name": "stdout",
     "output_type": "stream",
     "text": [
      "RBF SVM - top accuracy across folds: 0.788 (std: 0.011) with C: 0.1000 and gamma: 0.0001\n",
      "Top accuracy on test set with 235 PCA components.\n"
     ]
    }
   ],
   "source": [
    "# Print out the best configuration and score on validation set \n",
    "Svc_Rbf_idx = df_Svc_Rbf_results['mean_test_score'].idxmax()\n",
    "print ('RBF SVM - top accuracy across folds: {:.3f} (std: {:.3f}) with C: {:.4f} and gamma: {:.4f}'\n",
    "       .format(df_Svc_Rbf_results.loc[Svc_Rbf_idx,'mean_test_score'],\n",
    "               df_Svc_Rbf_results.loc[Svc_Rbf_idx,'std_test_score'],\n",
    "               df_Svc_Rbf_results.loc[Svc_Rbf_idx,'param_svc_rbf__C'],\n",
    "               df_Svc_Rbf_results.loc[Svc_Rbf_idx,'param_svc_rbf__gamma']))\n",
    "\n",
    "print ('Top accuracy on test set with {} PCA components.'\n",
    "       .format(df_Svc_Rbf_results.loc[Svc_Rbf_idx,'param_pca__n_components']))"
   ]
  },
  {
   "cell_type": "markdown",
   "metadata": {},
   "source": [
    "# Tuned estimators on the 1,000 points from the test set"
   ]
  },
  {
   "cell_type": "code",
   "execution_count": 23,
   "metadata": {},
   "outputs": [
    {
     "name": "stdout",
     "output_type": "stream",
     "text": [
      "Linear SVM accuracy (test set):f 0.810\n",
      "RBF SVM accuracy (test set): 0.796\n"
     ]
    }
   ],
   "source": [
    "# Test models on the test set\n",
    "linSVC_acc = grid_cv.score(Xo_test, y_test)\n",
    "Svc_Rbf_acc = grid_cv2.score(Xo_test, y_test)\n",
    "\n",
    "print ('Linear SVM accuracy (test set):f {:.3f}'.format(linSVC_acc))\n",
    "print ('RBF SVM accuracy (test set): {:.3f}'.format(Svc_Rbf_acc))"
   ]
  },
  {
   "cell_type": "code",
   "execution_count": 24,
   "metadata": {},
   "outputs": [
    {
     "name": "stdout",
     "output_type": "stream",
     "text": [
      "Linear SVM accuracy (test set):f 0.810\n",
      "RBF SVM accuracy (test set): 0.796\n"
     ]
    }
   ],
   "source": [
    "# Test models on the test set add \"best_estimator_\" to see if it brings anyting\n",
    "linSVC_acc = grid_cv.best_estimator_.score(Xo_test, y_test)\n",
    "Svc_Rbf_acc = grid_cv2.best_estimator_.score(Xo_test, y_test)\n",
    "# did not add anything, does it means .score already do that job ?\n",
    "\n",
    "print ('Linear SVM accuracy (test set):f {:.3f}'.format(linSVC_acc))\n",
    "print ('RBF SVM accuracy (test set): {:.3f}'.format(Svc_Rbf_acc))"
   ]
  },
  {
   "cell_type": "markdown",
   "metadata": {},
   "source": [
    "## Note:\n",
    "\n",
    "For the linear classifier I chosed the LinearSVC estimator as it uses the \"liblinear\" solver (based on the coordinate descent algorithm) that is faster than \"libsvm\" solver. Even with this choice, my CPU (8 Core) went up to 100% for several minutes.\n",
    "\n",
    "Moreover I found that 4000 rows and 4096 features is a lot then SVC would not support it well I guess.\n",
    "\n",
    "I could fine tune a lot the SVM RFB as my CPU was really in trouble and I had to reduce the number of configuration of the grid search. My PC is Intel Core i7-6700 CPU @ 3.4GHz/ 16 GB RAM/ 64-bit OS.\n",
    "\n",
    "SVM RFB computation was around 9 min, CPU usage 100%, Physical Memory up to 40%. Any advices to speed up such computations ? \n",
    "\n",
    "Maybe you could check, please, if there is no mistake in my code that would have slowed the calculation. I don't know if it is recommended to put the number of component for PCA as a parameter in Gridsearch(), when the pipe object already uses based on a fixed number of component. I also tried to start with a empty PCA() object but it does not help."
   ]
  },
  {
   "cell_type": "code",
   "execution_count": null,
   "metadata": {},
   "outputs": [],
   "source": []
  }
 ],
 "metadata": {
  "kernelspec": {
   "display_name": "Python [conda env:exts-aml2]",
   "language": "python",
   "name": "conda-env-exts-aml2-py"
  },
  "language_info": {
   "codemirror_mode": {
    "name": "ipython",
    "version": 3
   },
   "file_extension": ".py",
   "mimetype": "text/x-python",
   "name": "python",
   "nbconvert_exporter": "python",
   "pygments_lexer": "ipython3",
   "version": "3.6.4"
  }
 },
 "nbformat": 4,
 "nbformat_minor": 2
}
