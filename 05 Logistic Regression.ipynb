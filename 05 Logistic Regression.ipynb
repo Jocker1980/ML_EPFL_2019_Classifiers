{
 "cells": [
  {
   "cell_type": "markdown",
   "metadata": {},
   "source": [
    "# 05 Logistic Regression"
   ]
  },
  {
   "cell_type": "markdown",
   "metadata": {},
   "source": [
    "## Perform the following tasks\n",
    "\n",
    "### Using the high-level OverFeat features\n",
    "\n",
    "- Create a logistic regression estimator with an optional PCA preprocessing step.\n",
    "- Tune the regularization strength and the number of components using grid search with cross-validation. Try with and without PCA.\n",
    "- Collect the results in a DataFrame, print the best parameters and evaluate the test accuracy.\n",
    "\n",
    "### Using your tuned estimator\n",
    "\n",
    "- Pick ten images from the test set and print the class probabilities.\n",
    "- Try with different regularization strengths. Write your observations."
   ]
  },
  {
   "cell_type": "markdown",
   "metadata": {},
   "source": [
    "## Load data"
   ]
  },
  {
   "cell_type": "code",
   "execution_count": 30,
   "metadata": {},
   "outputs": [],
   "source": [
    "import pandas as pd\n",
    "import numpy as np\n",
    "import matplotlib.pyplot as plt\n",
    "%matplotlib inline\n",
    "from sklearn.model_selection import train_test_split, GridSearchCV\n",
    "from sklearn.pipeline import Pipeline\n",
    "from sklearn.preprocessing import StandardScaler\n",
    "from sklearn.decomposition import PCA\n",
    "from sklearn.linear_model import SGDClassifier\n",
    "from sklearn.linear_model import LogisticRegression\n",
    "import random"
   ]
  },
  {
   "cell_type": "code",
   "execution_count": 3,
   "metadata": {},
   "outputs": [
    {
     "name": "stdout",
     "output_type": "stream",
     "text": [
      "Data keys dict_keys(['pixels', 'overfeat', 'labels', 'names', 'allow_pickle'])\n"
     ]
    }
   ],
   "source": [
    "# Load the data form the .npz\n",
    "with np.load('cifar4-train.npz', allow_pickle=False) as npz_file:\n",
    "    cifar4 = dict(npz_file.items())\n",
    "# Overview of the data content    \n",
    "print('Data keys {}'.format(cifar4.keys()))"
   ]
  },
  {
   "cell_type": "code",
   "execution_count": 4,
   "metadata": {},
   "outputs": [],
   "source": [
    "# Generate the features matrices with pixels and overfeat\n",
    "# Create X/y arrays\n",
    "Xo = cifar4['overfeat']\n",
    "Xp = cifar4['pixels']\n",
    "y = cifar4['labels']\n",
    "names = cifar4['names']"
   ]
  },
  {
   "cell_type": "code",
   "execution_count": 5,
   "metadata": {},
   "outputs": [],
   "source": [
    "# Partition data set to be able to assess model performance and over/under fitting issues\n",
    "from sklearn.model_selection import train_test_split\n",
    "\n",
    "# Split data into train/test sets and insure balanced data sets (stratify)  \n",
    "# Include pixels data set split for image part of exercise\n",
    "Xo_train, Xo_test, y_train, y_test, Xp_train, Xp_test, label_train, label_test = train_test_split(\n",
    "    Xo, y, Xp, y, train_size=4000, test_size=1000, random_state=0, stratify=y) #-> I have a doubt here:\n",
    "# I stratitfy here despite I know in the GridSearchCV there is by default the StratifiedKFold,\n",
    "# then I ensure first train /test sets to be balanced, and continue with a balanced CV over\n",
    "# the train set. Is it right ?\n",
    "\n",
    "#print ('Size of Xo_train, y_train :', Xo_train.shape, y_train.shape)\n",
    "#print ('Size of Xo_test, y_test :', Xo_test.shape, y_test.shape)\n",
    "#print ('Size of Xp_train, label_train :', Xp_train.shape, label_train.shape)\n",
    "#print ('Size of Xp_test, label_test :', Xp_test.shape, label_test.shape)"
   ]
  },
  {
   "cell_type": "markdown",
   "metadata": {},
   "source": [
    "## Task 1"
   ]
  },
  {
   "cell_type": "markdown",
   "metadata": {},
   "source": [
    "## Logistic Regression with Cross Validation\n",
    "\n",
    "Our data set has a lot of features. It means the classifier could tend to overfit.\n",
    "To prevent this one will use a PCA as preprocessing step to reduce dimentionality and then the number of features."
   ]
  },
  {
   "cell_type": "code",
   "execution_count": 6,
   "metadata": {},
   "outputs": [],
   "source": [
    "# Create a logistic regression estimator with stochastic gradient descent (SGD)\n",
    "sgdc = SGDClassifier(\n",
    "    # Set logistic loss\n",
    "    loss='log',\n",
    "    # Set max number of iterations and stopping criteria\n",
    "    max_iter=1000, tol=1e-3, random_state=0\n",
    ")\n",
    "# Create a PCA object\n",
    "# From data exploration stage one knows that with 162 and 387 first components 90-95%\n",
    "# of variance is explained\n",
    "pca = PCA() # start with an empty object\n",
    "# Create a pipeline with a scaler & PCA steps to be assessed if better with or not\n",
    "pipe = Pipeline([\n",
    "    #('scaler', StandardScaler()), # to test with/without\n",
    "    ('pca', None),\n",
    "    ('sgdclass', sgdc)\n",
    "])"
   ]
  },
  {
   "cell_type": "markdown",
   "metadata": {},
   "source": [
    "### Grid search CV"
   ]
  },
  {
   "cell_type": "code",
   "execution_count": 7,
   "metadata": {},
   "outputs": [],
   "source": [
    "# Define a set of values\n",
    "alphas = np.logspace(-3, 1, num=5) #alphasl={0.001,0.01,0.1,1,10}\n",
    "n_compo = np.arange(160, 285,25) # 160, 185, .., 260\n",
    "\n",
    "# Define the grid of parameters and values to assess\n",
    "complex_grid = [\n",
    "    # 1st grid\n",
    "    {'sgdclass__alpha': alphas},\n",
    "    # 2nd grid : PCA n_components tuning\n",
    "    {'pca': [PCA()],\n",
    "     'pca__n_components': n_compo,\n",
    "     'sgdclass__alpha': alphas   \n",
    "}]"
   ]
  },
  {
   "cell_type": "code",
   "execution_count": 9,
   "metadata": {},
   "outputs": [
    {
     "data": {
      "text/plain": [
       "GridSearchCV(cv=5, error_score='raise',\n",
       "       estimator=Pipeline(memory=None,\n",
       "     steps=[('pca', None), ('sgdclass', SGDClassifier(alpha=0.0001, average=False, class_weight=None, epsilon=0.1,\n",
       "       eta0=0.0, fit_intercept=True, l1_ratio=0.15,\n",
       "       learning_rate='optimal', loss='log', max_iter=1000, n_iter=None,\n",
       "       n_jobs=1, penalty='l2', power_t=0.5, random_state=0, shuffle=True,\n",
       "       tol=0.001, verbose=0, warm_start=False))]),\n",
       "       fit_params=None, iid=True, n_jobs=-1,\n",
       "       param_grid=[{'sgdclass__alpha': array([1.e-03, 1.e-02, 1.e-01, 1.e+00, 1.e+01])}, {'pca': [PCA(copy=True, iterated_power='auto', n_components=None, random_state=None,\n",
       "  svd_solver='auto', tol=0.0, whiten=False)], 'pca__n_components': array([160, 185, 210, 235, 260]), 'sgdclass__alpha': array([1.e-03, 1.e-02, 1.e-01, 1.e+00, 1.e+01])}],\n",
       "       pre_dispatch='2*n_jobs', refit=True, return_train_score=True,\n",
       "       scoring=None, verbose=0)"
      ]
     },
     "execution_count": 9,
     "metadata": {},
     "output_type": "execute_result"
    }
   ],
   "source": [
    "# Create cross-validation object\n",
    "grid_cv = GridSearchCV(pipe, complex_grid, cv=5, n_jobs=-1)\n",
    "\n",
    "# Fit estimator\n",
    "grid_cv.fit(Xo_train, y_train)"
   ]
  },
  {
   "cell_type": "code",
   "execution_count": 12,
   "metadata": {},
   "outputs": [
    {
     "name": "stdout",
     "output_type": "stream",
     "text": [
      "Number of combinations: 30\n"
     ]
    }
   ],
   "source": [
    "# Print the number of combinations\n",
    "print('Number of combinations:', len(grid_cv.cv_results_['params']))"
   ]
  },
  {
   "cell_type": "markdown",
   "metadata": {},
   "source": [
    "### Score dataframe & best results"
   ]
  },
  {
   "cell_type": "code",
   "execution_count": 13,
   "metadata": {
    "collapsed": true
   },
   "outputs": [
    {
     "data": {
      "text/plain": [
       "dict_keys(['mean_fit_time', 'std_fit_time', 'mean_score_time', 'std_score_time', 'param_sgdclass__alpha', 'param_pca', 'param_pca__n_components', 'params', 'split0_test_score', 'split1_test_score', 'split2_test_score', 'split3_test_score', 'split4_test_score', 'mean_test_score', 'std_test_score', 'rank_test_score', 'split0_train_score', 'split1_train_score', 'split2_train_score', 'split3_train_score', 'split4_train_score', 'mean_train_score', 'std_train_score'])"
      ]
     },
     "execution_count": 13,
     "metadata": {},
     "output_type": "execute_result"
    }
   ],
   "source": [
    "# Overview of all the keys names\n",
    "grid_cv.cv_results_.keys()"
   ]
  },
  {
   "cell_type": "code",
   "execution_count": 14,
   "metadata": {
    "collapsed": true
   },
   "outputs": [
    {
     "data": {
      "text/html": [
       "<div>\n",
       "<style scoped>\n",
       "    .dataframe tbody tr th:only-of-type {\n",
       "        vertical-align: middle;\n",
       "    }\n",
       "\n",
       "    .dataframe tbody tr th {\n",
       "        vertical-align: top;\n",
       "    }\n",
       "\n",
       "    .dataframe thead th {\n",
       "        text-align: right;\n",
       "    }\n",
       "</style>\n",
       "<table border=\"1\" class=\"dataframe\">\n",
       "  <thead>\n",
       "    <tr style=\"text-align: right;\">\n",
       "      <th></th>\n",
       "      <th>param_sgdclass__alpha</th>\n",
       "      <th>mean_test_score</th>\n",
       "      <th>std_test_score</th>\n",
       "      <th>mean_train_score</th>\n",
       "      <th>std_train_score</th>\n",
       "      <th>param_pca__n_components</th>\n",
       "    </tr>\n",
       "  </thead>\n",
       "  <tbody>\n",
       "    <tr>\n",
       "      <th>2</th>\n",
       "      <td>0.1</td>\n",
       "      <td>0.83375</td>\n",
       "      <td>0.016602</td>\n",
       "      <td>0.911938</td>\n",
       "      <td>0.007980</td>\n",
       "      <td>NaN</td>\n",
       "    </tr>\n",
       "    <tr>\n",
       "      <th>25</th>\n",
       "      <td>0.001</td>\n",
       "      <td>0.83275</td>\n",
       "      <td>0.011219</td>\n",
       "      <td>0.878438</td>\n",
       "      <td>0.004949</td>\n",
       "      <td>260</td>\n",
       "    </tr>\n",
       "    <tr>\n",
       "      <th>15</th>\n",
       "      <td>0.001</td>\n",
       "      <td>0.83125</td>\n",
       "      <td>0.015431</td>\n",
       "      <td>0.874875</td>\n",
       "      <td>0.004077</td>\n",
       "      <td>210</td>\n",
       "    </tr>\n",
       "    <tr>\n",
       "      <th>21</th>\n",
       "      <td>0.01</td>\n",
       "      <td>0.83050</td>\n",
       "      <td>0.010050</td>\n",
       "      <td>0.871875</td>\n",
       "      <td>0.002809</td>\n",
       "      <td>235</td>\n",
       "    </tr>\n",
       "    <tr>\n",
       "      <th>20</th>\n",
       "      <td>0.001</td>\n",
       "      <td>0.82900</td>\n",
       "      <td>0.016458</td>\n",
       "      <td>0.878250</td>\n",
       "      <td>0.002259</td>\n",
       "      <td>235</td>\n",
       "    </tr>\n",
       "  </tbody>\n",
       "</table>\n",
       "</div>"
      ],
      "text/plain": [
       "   param_sgdclass__alpha  mean_test_score  std_test_score  mean_train_score  \\\n",
       "2                    0.1          0.83375        0.016602          0.911938   \n",
       "25                 0.001          0.83275        0.011219          0.878438   \n",
       "15                 0.001          0.83125        0.015431          0.874875   \n",
       "21                  0.01          0.83050        0.010050          0.871875   \n",
       "20                 0.001          0.82900        0.016458          0.878250   \n",
       "\n",
       "    std_train_score param_pca__n_components  \n",
       "2          0.007980                     NaN  \n",
       "25         0.004949                     260  \n",
       "15         0.004077                     210  \n",
       "21         0.002809                     235  \n",
       "20         0.002259                     235  "
      ]
     },
     "execution_count": 14,
     "metadata": {},
     "output_type": "execute_result"
    }
   ],
   "source": [
    "# Create a df with all the desired results for the differents C\n",
    "df_sgdc_results = pd.DataFrame(grid_cv.cv_results_)[['param_sgdclass__alpha', \n",
    "                                                'mean_test_score', \n",
    "                                                'std_test_score',\n",
    "                                                'mean_train_score',\n",
    "                                                'std_train_score',\n",
    "                                                'param_pca__n_components'\n",
    "                                                      ]]\n",
    "#filter= df_sgdc_results['param_pca__n_components'] > 0\n",
    "#df_sgdc_results[~filter].sort_values(by=['param_sgdclass__alpha', 'param_pca__n_components'], ascending= False).head(30)\n",
    "df_sgdc_results.sort_values(by='mean_test_score', ascending= False).head()"
   ]
  },
  {
   "cell_type": "code",
   "execution_count": 15,
   "metadata": {},
   "outputs": [
    {
     "name": "stdout",
     "output_type": "stream",
     "text": [
      "Top accuracy across folds: 0.8337 (std: 0.017) with n_components = nan, and alpha: 0.1000\n"
     ]
    }
   ],
   "source": [
    "# Print out the best configuration and score on validation set \n",
    "sgdc_idx = df_sgdc_results['mean_test_score'].idxmax()\n",
    "print ('Top accuracy across folds: {:.4f} (std: {:.3f}) with n_components = {}, and alpha: {:.4f}'\n",
    "       .format(df_sgdc_results.loc[sgdc_idx,'mean_test_score'],\n",
    "               df_sgdc_results.loc[sgdc_idx,'std_test_score'],\n",
    "               df_sgdc_results.loc[sgdc_idx,'param_pca__n_components'],\n",
    "               df_sgdc_results.loc[sgdc_idx,'param_sgdclass__alpha']))"
   ]
  },
  {
   "cell_type": "code",
   "execution_count": 17,
   "metadata": {},
   "outputs": [
    {
     "name": "stdout",
     "output_type": "stream",
     "text": [
      "Logistic regression accuracy (test set): 0.8330\n"
     ]
    }
   ],
   "source": [
    "# Evaluate the test accuracy\n",
    "acc_test= grid_cv.score(Xo_test, y_test)\n",
    "print ('Logistic regression accuracy (test set): {:.4f}'.format(acc_test))"
   ]
  },
  {
   "cell_type": "markdown",
   "metadata": {},
   "source": [
    "## Task 2"
   ]
  },
  {
   "cell_type": "code",
   "execution_count": 21,
   "metadata": {
    "collapsed": true
   },
   "outputs": [
    {
     "data": {
      "text/html": [
       "<div>\n",
       "<style scoped>\n",
       "    .dataframe tbody tr th:only-of-type {\n",
       "        vertical-align: middle;\n",
       "    }\n",
       "\n",
       "    .dataframe tbody tr th {\n",
       "        vertical-align: top;\n",
       "    }\n",
       "\n",
       "    .dataframe thead th {\n",
       "        text-align: right;\n",
       "    }\n",
       "</style>\n",
       "<table border=\"1\" class=\"dataframe\">\n",
       "  <thead>\n",
       "    <tr style=\"text-align: right;\">\n",
       "      <th></th>\n",
       "      <th>truck</th>\n",
       "      <th>car</th>\n",
       "      <th>airplane</th>\n",
       "      <th>ship</th>\n",
       "    </tr>\n",
       "  </thead>\n",
       "  <tbody>\n",
       "    <tr>\n",
       "      <th>0</th>\n",
       "      <td>0.106</td>\n",
       "      <td>0.098</td>\n",
       "      <td>0.692</td>\n",
       "      <td>0.104</td>\n",
       "    </tr>\n",
       "    <tr>\n",
       "      <th>1</th>\n",
       "      <td>0.997</td>\n",
       "      <td>0.003</td>\n",
       "      <td>0.000</td>\n",
       "      <td>0.000</td>\n",
       "    </tr>\n",
       "    <tr>\n",
       "      <th>2</th>\n",
       "      <td>0.011</td>\n",
       "      <td>0.985</td>\n",
       "      <td>0.003</td>\n",
       "      <td>0.001</td>\n",
       "    </tr>\n",
       "    <tr>\n",
       "      <th>3</th>\n",
       "      <td>0.000</td>\n",
       "      <td>0.001</td>\n",
       "      <td>0.136</td>\n",
       "      <td>0.863</td>\n",
       "    </tr>\n",
       "    <tr>\n",
       "      <th>4</th>\n",
       "      <td>0.083</td>\n",
       "      <td>0.869</td>\n",
       "      <td>0.048</td>\n",
       "      <td>0.000</td>\n",
       "    </tr>\n",
       "    <tr>\n",
       "      <th>5</th>\n",
       "      <td>0.050</td>\n",
       "      <td>0.000</td>\n",
       "      <td>0.169</td>\n",
       "      <td>0.780</td>\n",
       "    </tr>\n",
       "    <tr>\n",
       "      <th>6</th>\n",
       "      <td>0.000</td>\n",
       "      <td>0.098</td>\n",
       "      <td>0.280</td>\n",
       "      <td>0.622</td>\n",
       "    </tr>\n",
       "    <tr>\n",
       "      <th>7</th>\n",
       "      <td>0.852</td>\n",
       "      <td>0.056</td>\n",
       "      <td>0.012</td>\n",
       "      <td>0.080</td>\n",
       "    </tr>\n",
       "    <tr>\n",
       "      <th>8</th>\n",
       "      <td>0.001</td>\n",
       "      <td>0.030</td>\n",
       "      <td>0.921</td>\n",
       "      <td>0.047</td>\n",
       "    </tr>\n",
       "    <tr>\n",
       "      <th>9</th>\n",
       "      <td>0.951</td>\n",
       "      <td>0.048</td>\n",
       "      <td>0.001</td>\n",
       "      <td>0.000</td>\n",
       "    </tr>\n",
       "  </tbody>\n",
       "</table>\n",
       "</div>"
      ],
      "text/plain": [
       "   truck    car  airplane   ship\n",
       "0  0.106  0.098     0.692  0.104\n",
       "1  0.997  0.003     0.000  0.000\n",
       "2  0.011  0.985     0.003  0.001\n",
       "3  0.000  0.001     0.136  0.863\n",
       "4  0.083  0.869     0.048  0.000\n",
       "5  0.050  0.000     0.169  0.780\n",
       "6  0.000  0.098     0.280  0.622\n",
       "7  0.852  0.056     0.012  0.080\n",
       "8  0.001  0.030     0.921  0.047\n",
       "9  0.951  0.048     0.001  0.000"
      ]
     },
     "execution_count": 21,
     "metadata": {},
     "output_type": "execute_result"
    }
   ],
   "source": [
    "# Take 10 images from the test set and get their class probabilities\n",
    "Rand_10 = random.sample(range(0, len(Xo_test)), 10)\n",
    "# Use the attribute \"best_estimator\" to get best prediction\n",
    "best_proba = grid_cv.best_estimator_.predict_proba(Xo_test[Rand_10])\n",
    "# Store it in a df\n",
    "df = pd.DataFrame(best_proba, columns=['truck','car','airplane','ship']).round(3)\n",
    "df"
   ]
  },
  {
   "cell_type": "code",
   "execution_count": 24,
   "metadata": {},
   "outputs": [
    {
     "data": {
      "image/png": "[encoded data removed]",
      "text/plain": [
       "<matplotlib.figure.Figure at 0x29bd6438>"
      ]
     },
     "metadata": {
      "needs_background": "light"
     },
     "output_type": "display_data"
    }
   ],
   "source": [
    "# Display the 10 random images\n",
    "ten_ima = Xp_test[Rand_10]\n",
    "fig, axes = plt.subplots(nrows=1, ncols=10, figsize=(17, 4))\n",
    "for i,axis in enumerate(axes):\n",
    "    flat_img = ten_ima[i,:]\n",
    "    img = flat_img.reshape(32, 32, 3)\n",
    "    axis.imshow(img)\n",
    "    axis.get_xaxis().set_visible(False) \n",
    "    axis.get_yaxis().set_visible(False)\n",
    "    axis.set_title('Image {}'.format(i+1))\n",
    "\n",
    "plt.show()"
   ]
  },
  {
   "cell_type": "code",
   "execution_count": 34,
   "metadata": {
    "collapsed": true
   },
   "outputs": [
    {
     "name": "stderr",
     "output_type": "stream",
     "text": [
      "C:\\Users\\Joker\\Anaconda3\\envs\\exts-aml2\\lib\\site-packages\\sklearn\\linear_model\\base.py:340: RuntimeWarning: overflow encountered in exp\n",
      "  np.exp(prob, prob)\n"
     ]
    },
    {
     "name": "stdout",
     "output_type": "stream",
     "text": [
      "\n",
      "alpha = 0.001\n",
      "   truck  car  airplane  ship\n",
      "0    0.0  0.0       1.0   0.0\n",
      "1    1.0  0.0       0.0   0.0\n",
      "2    0.0  1.0       0.0   0.0\n",
      "3    0.0  0.0       0.0   1.0\n",
      "4    0.0  1.0       0.0   0.0\n",
      "5    0.0  0.0       0.0   1.0\n",
      "6    0.0  0.0       1.0   0.0\n",
      "7    1.0  0.0       0.0   0.0\n",
      "8    0.0  0.0       1.0   0.0\n",
      "9    1.0  0.0       0.0   0.0\n",
      "\n",
      "alpha = 0.01\n",
      "   truck  car  airplane     ship\n",
      "0    0.0  0.0   1.00000  0.00000\n",
      "1    1.0  0.0   0.00000  0.00000\n",
      "2    0.0  1.0   0.00000  0.00000\n",
      "3    0.0  0.0   0.00000  1.00000\n",
      "4    0.0  1.0   0.00000  0.00000\n",
      "5    0.0  0.0   0.00000  1.00000\n",
      "6    0.0  0.0   0.99315  0.00685\n",
      "7    1.0  0.0   0.00000  0.00000\n",
      "8    0.0  0.0   1.00000  0.00000\n",
      "9    1.0  0.0   0.00000  0.00000\n",
      "\n",
      "alpha = 0.1\n",
      "      truck       car  airplane      ship\n",
      "0  0.000000  0.000000  0.999769  0.000231\n",
      "1  1.000000  0.000000  0.000000  0.000000\n",
      "2  0.000019  0.999981  0.000000  0.000000\n",
      "3  0.000000  0.000000  0.040703  0.959297\n",
      "4  0.000047  0.999871  0.000082  0.000000\n",
      "5  0.000000  0.000000  0.017387  0.982613\n",
      "6  0.000000  0.000000  0.293573  0.706427\n",
      "7  0.997777  0.000124  0.000001  0.002097\n",
      "8  0.000000  0.000000  0.964097  0.035903\n",
      "9  0.999780  0.000220  0.000000  0.000000\n",
      "\n",
      "alpha = 1.0\n",
      "      truck       car  airplane      ship\n",
      "0  0.041440  0.050829  0.701124  0.206607\n",
      "1  0.970312  0.006956  0.003152  0.019580\n",
      "2  0.036100  0.897401  0.021448  0.045051\n",
      "3  0.000658  0.001369  0.237320  0.760653\n",
      "4  0.189008  0.643883  0.158901  0.008208\n",
      "5  0.049346  0.004359  0.244294  0.702000\n",
      "6  0.001361  0.032006  0.443937  0.522696\n",
      "7  0.626607  0.078654  0.035548  0.259190\n",
      "8  0.004725  0.003869  0.689980  0.301426\n",
      "9  0.841342  0.128476  0.019412  0.010771\n",
      "\n",
      "alpha = 10.0\n",
      "      truck       car  airplane      ship\n",
      "0  0.119621  0.187197  0.391877  0.301304\n",
      "1  0.599310  0.165904  0.089769  0.145018\n",
      "2  0.151441  0.545001  0.123703  0.179856\n",
      "3  0.059953  0.072058  0.314555  0.553434\n",
      "4  0.280879  0.446560  0.197363  0.075198\n",
      "5  0.147716  0.108354  0.281223  0.462707\n",
      "6  0.048149  0.152145  0.378590  0.421115\n",
      "7  0.380480  0.187843  0.125012  0.306665\n",
      "8  0.081792  0.073828  0.448955  0.395425\n",
      "9  0.479511  0.290727  0.150189  0.079573\n"
     ]
    }
   ],
   "source": [
    "# Analyse effect of regularization strenght on the probabilities\n",
    "# Define a set of regularization strenght\n",
    "alphas = np.logspace(-3, 1, num=5)\n",
    "# Create list to store intermediary results\n",
    "list_proba = []\n",
    "\n",
    "for i, alpha in enumerate(alphas):\n",
    "    sgdc = SGDClassifier(loss='log', max_iter=1000, tol=1e-3, random_state=0, alpha=alpha)\n",
    "    pca = PCA(n_components= 200)\n",
    "    pipe = Pipeline([('pca', pca),('sgdclass', sgdc)])\n",
    "    pipe.fit(Xo_train, y_train)\n",
    "    proba = pipe.predict_proba(Xo_test[Rand_10])\n",
    "    list_proba.append(proba)\n",
    "    df_proba = pd.DataFrame(list_proba[i], columns=['truck','car','airplane','ship']).round(6)\n",
    "    print('\\nalpha = {}'.format(alpha))\n",
    "    print(df_proba)"
   ]
  },
  {
   "cell_type": "markdown",
   "metadata": {},
   "source": [
    "## Note:\n",
    "When alpha increses it becomes less clear what class is the right one. From an alpha of 0.001 with only 0 or 1 as results, to an alpha of 10 with very low dominant values."
   ]
  },
  {
   "cell_type": "markdown",
   "metadata": {},
   "source": [
    "# Choice of the best algorithm\n",
    "\n",
    "- It seems that Logistic Regression is the best."
   ]
  },
  {
   "cell_type": "code",
   "execution_count": 42,
   "metadata": {},
   "outputs": [
    {
     "name": "stdout",
     "output_type": "stream",
     "text": [
      "dict_keys(['pixels', 'overfeat', 'allow_pickle'])\n"
     ]
    }
   ],
   "source": [
    "# Load the test set\n",
    "with np.load('cifar4-test.npz', allow_pickle=False) as npz_file:\n",
    "    pred_data = dict(npz_file.items())\n",
    "print (pred_data.keys())\n",
    "\n",
    "# Select overfeat\n",
    "Xo_pred = pred_data['overfeat']"
   ]
  },
  {
   "cell_type": "code",
   "execution_count": 43,
   "metadata": {},
   "outputs": [
    {
     "data": {
      "text/plain": [
       "array([3, 3, 2, 3, 2, 3, 3, 3, 0, 2, 3, 0, 1, 1, 0, 2, 3, 1, 2, 3, 1, 0,\n",
       "       1, 2, 3, 1, 2, 0, 2, 1, 0, 0, 2, 1, 3, 0, 1, 1, 1, 3, 1, 3, 0, 2,\n",
       "       2, 2, 1, 1, 0, 3, 3, 1, 0, 1, 2, 0, 0, 2, 0, 2, 0, 0, 0, 0, 2, 1,\n",
       "       3, 2, 0, 1, 3, 3, 3, 2, 3, 3, 0, 3, 3, 1, 3, 0, 2, 3, 1, 0, 2, 3,\n",
       "       3, 2, 2, 1, 1, 0, 1, 2, 0, 1, 3, 1, 3, 2, 0, 3, 3, 3, 1, 2, 1, 3,\n",
       "       0, 1, 1, 0, 3, 1, 2, 1, 1, 2, 0, 1, 2, 0, 2, 2, 3, 0, 1, 1, 0, 1,\n",
       "       0, 3, 2, 2, 2, 1, 1, 1, 0, 3, 3, 2, 1, 2, 3, 1, 1, 1, 1, 2, 0, 2,\n",
       "       3, 0, 3, 0, 3, 2, 0, 2, 0, 1, 2, 1, 0, 3, 3, 3, 0, 3, 0, 3, 0, 2,\n",
       "       1, 2, 2, 0, 0, 2, 1, 0, 1, 2, 3, 3, 1, 0, 3, 0, 1, 0, 3, 3, 1, 2,\n",
       "       3, 0, 3, 0, 3, 0, 1, 2, 1, 1, 2, 2, 0, 2, 1, 1, 3, 1, 1, 0, 0, 1,\n",
       "       1, 3, 3, 2, 1, 0, 3, 3, 0, 1, 2, 0, 2, 3, 1, 3, 2, 0, 2, 3, 1, 3,\n",
       "       1, 3, 3, 2, 1, 3, 2, 2, 2, 1, 2, 2, 3, 3, 2, 1, 1, 3, 3, 1, 3, 3,\n",
       "       1, 1, 1, 3, 3, 0, 1, 3, 0, 0, 0, 2, 1, 2, 2, 1, 0, 2, 1, 3, 3, 3,\n",
       "       0, 3, 3, 1, 3, 1, 2, 1, 2, 2, 3, 2, 0, 3, 1, 0, 3, 2, 3, 3, 1, 3,\n",
       "       1, 0, 2, 0, 0, 0, 2, 0, 2, 1, 2, 3, 0, 1, 3, 3, 3, 3, 3, 0, 1, 1,\n",
       "       0, 1, 3, 2, 3, 0, 1, 3, 1, 2, 3, 0, 0, 0, 0, 3, 1, 0, 2, 2, 0, 2,\n",
       "       3, 0, 3, 2, 3, 1, 0, 0, 3, 3, 3, 0, 0, 0, 3, 3, 0, 1, 3, 2, 2, 3,\n",
       "       0, 2, 3, 1, 0, 2, 0, 0, 2, 0, 2, 2, 1, 2, 2, 2, 0, 1, 2, 3, 2, 1,\n",
       "       1, 1, 0, 3, 0, 2, 0, 3, 3, 3, 3, 2, 2, 3, 1, 0, 2, 0, 1, 2, 3, 3,\n",
       "       3, 2, 0, 2, 3, 1, 1, 1, 0, 2, 1, 2, 3, 3, 0, 1, 0, 0, 2, 2, 2, 3,\n",
       "       3, 3, 3, 3, 0, 3, 3, 0, 1, 3, 1, 3, 1, 0, 0, 1, 2, 2, 1, 0, 2, 0,\n",
       "       0, 1, 1, 2, 1, 3, 1, 0, 3, 3, 0, 0, 3, 1, 0, 0, 3, 3, 2, 1, 1, 1,\n",
       "       0, 1, 1, 3, 1, 1, 2, 1, 0, 2, 0, 0, 3, 0, 1, 3, 0, 0, 3, 0, 3, 3,\n",
       "       3, 2, 0, 1, 3, 1, 3, 2, 3, 0, 0, 1, 0, 0, 2, 1, 1, 3, 3, 1, 3, 3,\n",
       "       2, 0, 3, 3, 3, 0, 2, 2, 3, 3, 0, 1, 1, 0, 3, 2, 1, 2, 1, 2, 3, 3,\n",
       "       1, 2, 3, 3, 3, 2, 3, 0, 3, 1, 2, 2, 3, 0, 0, 1, 2, 1, 1, 1, 2, 2,\n",
       "       1, 3, 2, 1, 2, 2, 2, 1, 2, 1, 3, 3, 3, 0, 2, 3, 0, 3, 1, 2, 2, 3,\n",
       "       3, 1, 0, 1, 0, 0, 1, 2, 0, 1, 1, 0, 0, 3, 1, 0, 1, 2, 2, 1, 0, 0,\n",
       "       3, 3, 3, 1, 2, 1, 1, 3, 3, 3, 1, 0, 2, 3, 3, 1, 2, 3, 0, 0, 1, 0,\n",
       "       0, 1, 3, 0, 2, 3, 3, 0, 2, 3, 0, 2, 0, 1, 1, 1, 1, 3, 1, 2, 0, 1,\n",
       "       1, 3, 2, 3, 2, 1, 1, 3, 0, 1, 2, 3, 1, 1, 1, 2, 0, 0, 1, 0, 0, 3,\n",
       "       1, 0, 0, 1, 0, 2, 0, 0, 1, 0, 3, 0, 1, 0, 3, 2, 0, 1, 0, 3, 0, 0,\n",
       "       1, 0, 1, 3, 3, 1, 1, 0, 1, 1, 3, 1, 1, 0, 3, 0, 0, 1, 1, 1, 0, 0,\n",
       "       2, 0, 1, 1, 3, 1, 2, 1, 0, 3, 3, 1, 2, 3, 2, 1, 1, 1, 2, 3, 0, 3,\n",
       "       0, 1, 1, 0, 3, 0, 0, 0, 1, 0, 2, 3, 3, 1, 0, 0, 0, 1, 0, 2, 0, 0,\n",
       "       1, 2, 0, 1, 0, 2, 0, 0, 0, 2, 1, 0, 2, 0, 0, 3, 0, 1, 0, 0, 0, 2,\n",
       "       1, 2, 3, 1, 0, 3, 0, 1, 1, 0, 1, 2, 3, 3, 3, 1, 2, 3, 2, 2, 2, 2,\n",
       "       0, 0, 3, 2, 1, 0, 2, 2, 0, 2, 2, 3, 1, 2, 3, 1, 0, 0, 2, 0, 1, 1,\n",
       "       2, 2, 1, 1, 3, 2, 1, 0, 3, 0, 1, 0, 2, 0, 2, 0, 3, 3, 1, 0, 0, 0,\n",
       "       3, 1, 1, 0, 0, 2, 3, 0, 1, 2, 0, 0, 0, 3, 2, 2, 1, 1, 0, 1, 0, 3,\n",
       "       2, 0, 2, 0, 1, 3, 0, 2, 0, 1, 0, 1, 2, 1, 3, 2, 1, 3, 2, 3, 2, 1,\n",
       "       1, 3, 3, 0, 0, 0, 1, 0, 3, 0, 1, 1, 2, 2, 3, 1, 3, 0, 0, 1, 3, 0,\n",
       "       2, 1, 3, 3, 3, 3, 0, 2, 1, 0, 3, 2, 2, 0, 0, 3, 3, 1, 1, 3, 1, 1,\n",
       "       0, 3, 3, 1, 2, 1, 3, 0, 2, 1, 3, 2, 3, 1, 0, 1, 3, 3, 3, 2, 1, 1,\n",
       "       3, 2, 3, 0, 3, 1, 0, 2, 2, 2, 0, 0, 3, 0, 3, 1, 0, 3, 2, 2, 2, 0,\n",
       "       1, 1, 3, 0, 0, 1, 1, 0, 3, 3], dtype=int64)"
      ]
     },
     "execution_count": 43,
     "metadata": {},
     "output_type": "execute_result"
    }
   ],
   "source": [
    "# Generate predictions use the attribute \"best_estimator\"\n",
    "predictions = grid_cv.best_estimator_.predict(Xo_pred)\n",
    "np.save('test-predictions.npy', predictions)\n",
    "# Get an overview of the array\n",
    "predictions"
   ]
  },
  {
   "cell_type": "code",
   "execution_count": 44,
   "metadata": {},
   "outputs": [],
   "source": [
    "# Create df\n",
    "df = pd.DataFrame(predictions)\n",
    "# Generate the .csv in the working directory\n",
    "df.to_csv(\"file_path.csv\")"
   ]
  },
  {
   "cell_type": "code",
   "execution_count": null,
   "metadata": {},
   "outputs": [],
   "source": []
  }
 ],
 "metadata": {
  "kernelspec": {
   "display_name": "Python [conda env:exts-aml2]",
   "language": "python",
   "name": "conda-env-exts-aml2-py"
  },
  "language_info": {
   "codemirror_mode": {
    "name": "ipython",
    "version": 3
   },
   "file_extension": ".py",
   "mimetype": "text/x-python",
   "name": "python",
   "nbconvert_exporter": "python",
   "pygments_lexer": "ipython3",
   "version": "3.6.4"
  }
 },
 "nbformat": 4,
 "nbformat_minor": 2
}
